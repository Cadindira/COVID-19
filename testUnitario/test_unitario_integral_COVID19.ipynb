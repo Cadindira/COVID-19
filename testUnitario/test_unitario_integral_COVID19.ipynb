{
  "nbformat": 4,
  "nbformat_minor": 0,
  "metadata": {
    "colab": {
      "provenance": []
    },
    "kernelspec": {
      "name": "python3",
      "display_name": "Python 3"
    },
    "language_info": {
      "name": "python"
    }
  },
  "cells": [
    {
      "cell_type": "markdown",
      "source": [
        "Instalar libreria para hacer los test unitarios y integrales"
      ],
      "metadata": {
        "id": "ksQUuUu7eFNp"
      }
    },
    {
      "cell_type": "code",
      "source": [
        "!pip install great_expectations"
      ],
      "metadata": {
        "colab": {
          "base_uri": "https://localhost:8080/"
        },
        "id": "yXITHwMLeBVg",
        "outputId": "b659da68-aa20-4f63-f2db-9fa5809c79ba"
      },
      "execution_count": null,
      "outputs": [
        {
          "output_type": "stream",
          "name": "stdout",
          "text": [
            "Requirement already satisfied: great_expectations in /usr/local/lib/python3.10/dist-packages (0.17.9)\n",
            "Requirement already satisfied: altair<5.0.0,>=4.2.1 in /usr/local/lib/python3.10/dist-packages (from great_expectations) (4.2.2)\n",
            "Requirement already satisfied: Click!=8.1.4,>=7.1.2 in /usr/local/lib/python3.10/dist-packages (from great_expectations) (8.1.6)\n",
            "Requirement already satisfied: colorama>=0.4.3 in /usr/local/lib/python3.10/dist-packages (from great_expectations) (0.4.6)\n",
            "Requirement already satisfied: cryptography>=3.2 in /usr/local/lib/python3.10/dist-packages (from great_expectations) (41.0.3)\n",
            "Requirement already satisfied: Ipython>=7.16.3 in /usr/local/lib/python3.10/dist-packages (from great_expectations) (7.34.0)\n",
            "Requirement already satisfied: ipywidgets>=7.5.1 in /usr/local/lib/python3.10/dist-packages (from great_expectations) (7.7.1)\n",
            "Requirement already satisfied: jinja2>=2.10 in /usr/local/lib/python3.10/dist-packages (from great_expectations) (3.1.2)\n",
            "Requirement already satisfied: jsonpatch>=1.22 in /usr/local/lib/python3.10/dist-packages (from great_expectations) (1.33)\n",
            "Requirement already satisfied: jsonschema>=2.5.1 in /usr/local/lib/python3.10/dist-packages (from great_expectations) (4.19.0)\n",
            "Requirement already satisfied: makefun<2,>=1.7.0 in /usr/local/lib/python3.10/dist-packages (from great_expectations) (1.15.1)\n",
            "Requirement already satisfied: marshmallow<4.0.0,>=3.7.1 in /usr/local/lib/python3.10/dist-packages (from great_expectations) (3.20.1)\n",
            "Requirement already satisfied: mistune>=0.8.4 in /usr/local/lib/python3.10/dist-packages (from great_expectations) (0.8.4)\n",
            "Requirement already satisfied: nbformat>=5.0 in /usr/local/lib/python3.10/dist-packages (from great_expectations) (5.9.2)\n",
            "Requirement already satisfied: notebook>=6.4.10 in /usr/local/lib/python3.10/dist-packages (from great_expectations) (7.0.2)\n",
            "Requirement already satisfied: packaging in /usr/local/lib/python3.10/dist-packages (from great_expectations) (23.1)\n",
            "Requirement already satisfied: pydantic<2.0,>=1.9.2 in /usr/local/lib/python3.10/dist-packages (from great_expectations) (1.10.12)\n",
            "Requirement already satisfied: pyparsing>=2.4 in /usr/local/lib/python3.10/dist-packages (from great_expectations) (3.1.1)\n",
            "Requirement already satisfied: python-dateutil>=2.8.1 in /usr/local/lib/python3.10/dist-packages (from great_expectations) (2.8.2)\n",
            "Requirement already satisfied: pytz>=2021.3 in /usr/local/lib/python3.10/dist-packages (from great_expectations) (2023.3)\n",
            "Requirement already satisfied: requests>=2.20 in /usr/local/lib/python3.10/dist-packages (from great_expectations) (2.31.0)\n",
            "Requirement already satisfied: ruamel.yaml<0.17.18,>=0.16 in /usr/local/lib/python3.10/dist-packages (from great_expectations) (0.17.17)\n",
            "Requirement already satisfied: scipy>=1.6.0 in /usr/local/lib/python3.10/dist-packages (from great_expectations) (1.10.1)\n",
            "Requirement already satisfied: tqdm>=4.59.0 in /usr/local/lib/python3.10/dist-packages (from great_expectations) (4.66.0)\n",
            "Requirement already satisfied: typing-extensions>=3.10.0.0 in /usr/local/lib/python3.10/dist-packages (from great_expectations) (4.7.1)\n",
            "Requirement already satisfied: tzlocal>=1.2 in /usr/local/lib/python3.10/dist-packages (from great_expectations) (5.0.1)\n",
            "Requirement already satisfied: urllib3>=1.26 in /usr/local/lib/python3.10/dist-packages (from great_expectations) (2.0.4)\n",
            "Requirement already satisfied: numpy>=1.22.4 in /usr/local/lib/python3.10/dist-packages (from great_expectations) (1.23.5)\n",
            "Requirement already satisfied: pandas>=1.3.0 in /usr/local/lib/python3.10/dist-packages (from great_expectations) (1.5.3)\n",
            "Requirement already satisfied: entrypoints in /usr/local/lib/python3.10/dist-packages (from altair<5.0.0,>=4.2.1->great_expectations) (0.4)\n",
            "Requirement already satisfied: toolz in /usr/local/lib/python3.10/dist-packages (from altair<5.0.0,>=4.2.1->great_expectations) (0.12.0)\n",
            "Requirement already satisfied: cffi>=1.12 in /usr/local/lib/python3.10/dist-packages (from cryptography>=3.2->great_expectations) (1.15.1)\n",
            "Requirement already satisfied: setuptools>=18.5 in /usr/local/lib/python3.10/dist-packages (from Ipython>=7.16.3->great_expectations) (67.7.2)\n",
            "Requirement already satisfied: jedi>=0.16 in /usr/local/lib/python3.10/dist-packages (from Ipython>=7.16.3->great_expectations) (0.19.0)\n",
            "Requirement already satisfied: decorator in /usr/local/lib/python3.10/dist-packages (from Ipython>=7.16.3->great_expectations) (4.4.2)\n",
            "Requirement already satisfied: pickleshare in /usr/local/lib/python3.10/dist-packages (from Ipython>=7.16.3->great_expectations) (0.7.5)\n",
            "Requirement already satisfied: traitlets>=4.2 in /usr/local/lib/python3.10/dist-packages (from Ipython>=7.16.3->great_expectations) (5.7.1)\n",
            "Requirement already satisfied: prompt-toolkit!=3.0.0,!=3.0.1,<3.1.0,>=2.0.0 in /usr/local/lib/python3.10/dist-packages (from Ipython>=7.16.3->great_expectations) (3.0.39)\n",
            "Requirement already satisfied: pygments in /usr/local/lib/python3.10/dist-packages (from Ipython>=7.16.3->great_expectations) (2.16.1)\n",
            "Requirement already satisfied: backcall in /usr/local/lib/python3.10/dist-packages (from Ipython>=7.16.3->great_expectations) (0.2.0)\n",
            "Requirement already satisfied: matplotlib-inline in /usr/local/lib/python3.10/dist-packages (from Ipython>=7.16.3->great_expectations) (0.1.6)\n",
            "Requirement already satisfied: pexpect>4.3 in /usr/local/lib/python3.10/dist-packages (from Ipython>=7.16.3->great_expectations) (4.8.0)\n",
            "Requirement already satisfied: ipykernel>=4.5.1 in /usr/local/lib/python3.10/dist-packages (from ipywidgets>=7.5.1->great_expectations) (5.5.6)\n",
            "Requirement already satisfied: ipython-genutils~=0.2.0 in /usr/local/lib/python3.10/dist-packages (from ipywidgets>=7.5.1->great_expectations) (0.2.0)\n",
            "Requirement already satisfied: widgetsnbextension~=3.6.0 in /usr/local/lib/python3.10/dist-packages (from ipywidgets>=7.5.1->great_expectations) (3.6.5)\n",
            "Requirement already satisfied: jupyterlab-widgets>=1.0.0 in /usr/local/lib/python3.10/dist-packages (from ipywidgets>=7.5.1->great_expectations) (3.0.8)\n",
            "Requirement already satisfied: MarkupSafe>=2.0 in /usr/local/lib/python3.10/dist-packages (from jinja2>=2.10->great_expectations) (2.1.3)\n",
            "Requirement already satisfied: jsonpointer>=1.9 in /usr/local/lib/python3.10/dist-packages (from jsonpatch>=1.22->great_expectations) (2.4)\n",
            "Requirement already satisfied: attrs>=22.2.0 in /usr/local/lib/python3.10/dist-packages (from jsonschema>=2.5.1->great_expectations) (23.1.0)\n",
            "Requirement already satisfied: jsonschema-specifications>=2023.03.6 in /usr/local/lib/python3.10/dist-packages (from jsonschema>=2.5.1->great_expectations) (2023.7.1)\n",
            "Requirement already satisfied: referencing>=0.28.4 in /usr/local/lib/python3.10/dist-packages (from jsonschema>=2.5.1->great_expectations) (0.30.2)\n",
            "Requirement already satisfied: rpds-py>=0.7.1 in /usr/local/lib/python3.10/dist-packages (from jsonschema>=2.5.1->great_expectations) (0.9.2)\n",
            "Requirement already satisfied: fastjsonschema in /usr/local/lib/python3.10/dist-packages (from nbformat>=5.0->great_expectations) (2.18.0)\n",
            "Requirement already satisfied: jupyter-core in /usr/local/lib/python3.10/dist-packages (from nbformat>=5.0->great_expectations) (5.3.1)\n",
            "Requirement already satisfied: jupyter-server<3,>=2.4.0 in /usr/local/lib/python3.10/dist-packages (from notebook>=6.4.10->great_expectations) (2.7.0)\n",
            "Requirement already satisfied: jupyterlab-server<3,>=2.22.1 in /usr/local/lib/python3.10/dist-packages (from notebook>=6.4.10->great_expectations) (2.24.0)\n",
            "Requirement already satisfied: jupyterlab<5,>=4.0.2 in /usr/local/lib/python3.10/dist-packages (from notebook>=6.4.10->great_expectations) (4.0.4)\n",
            "Requirement already satisfied: notebook-shim<0.3,>=0.2 in /usr/local/lib/python3.10/dist-packages (from notebook>=6.4.10->great_expectations) (0.2.3)\n",
            "Requirement already satisfied: tornado>=6.2.0 in /usr/local/lib/python3.10/dist-packages (from notebook>=6.4.10->great_expectations) (6.3.1)\n",
            "Requirement already satisfied: six>=1.5 in /usr/local/lib/python3.10/dist-packages (from python-dateutil>=2.8.1->great_expectations) (1.16.0)\n",
            "Requirement already satisfied: charset-normalizer<4,>=2 in /usr/local/lib/python3.10/dist-packages (from requests>=2.20->great_expectations) (3.2.0)\n",
            "Requirement already satisfied: idna<4,>=2.5 in /usr/local/lib/python3.10/dist-packages (from requests>=2.20->great_expectations) (3.4)\n",
            "Requirement already satisfied: certifi>=2017.4.17 in /usr/local/lib/python3.10/dist-packages (from requests>=2.20->great_expectations) (2023.7.22)\n",
            "Requirement already satisfied: pycparser in /usr/local/lib/python3.10/dist-packages (from cffi>=1.12->cryptography>=3.2->great_expectations) (2.21)\n",
            "Requirement already satisfied: jupyter-client in /usr/local/lib/python3.10/dist-packages (from ipykernel>=4.5.1->ipywidgets>=7.5.1->great_expectations) (8.3.0)\n",
            "Requirement already satisfied: parso<0.9.0,>=0.8.3 in /usr/local/lib/python3.10/dist-packages (from jedi>=0.16->Ipython>=7.16.3->great_expectations) (0.8.3)\n",
            "Requirement already satisfied: anyio>=3.1.0 in /usr/local/lib/python3.10/dist-packages (from jupyter-server<3,>=2.4.0->notebook>=6.4.10->great_expectations) (3.7.1)\n",
            "Requirement already satisfied: argon2-cffi in /usr/local/lib/python3.10/dist-packages (from jupyter-server<3,>=2.4.0->notebook>=6.4.10->great_expectations) (21.3.0)\n",
            "Requirement already satisfied: jupyter-events>=0.6.0 in /usr/local/lib/python3.10/dist-packages (from jupyter-server<3,>=2.4.0->notebook>=6.4.10->great_expectations) (0.7.0)\n",
            "Requirement already satisfied: jupyter-server-terminals in /usr/local/lib/python3.10/dist-packages (from jupyter-server<3,>=2.4.0->notebook>=6.4.10->great_expectations) (0.4.4)\n",
            "Requirement already satisfied: nbconvert>=6.4.4 in /usr/local/lib/python3.10/dist-packages (from jupyter-server<3,>=2.4.0->notebook>=6.4.10->great_expectations) (6.5.4)\n",
            "Requirement already satisfied: overrides in /usr/local/lib/python3.10/dist-packages (from jupyter-server<3,>=2.4.0->notebook>=6.4.10->great_expectations) (7.4.0)\n",
            "Requirement already satisfied: prometheus-client in /usr/local/lib/python3.10/dist-packages (from jupyter-server<3,>=2.4.0->notebook>=6.4.10->great_expectations) (0.17.1)\n",
            "Requirement already satisfied: pyzmq>=24 in /usr/local/lib/python3.10/dist-packages (from jupyter-server<3,>=2.4.0->notebook>=6.4.10->great_expectations) (25.1.1)\n",
            "Requirement already satisfied: send2trash in /usr/local/lib/python3.10/dist-packages (from jupyter-server<3,>=2.4.0->notebook>=6.4.10->great_expectations) (1.8.2)\n",
            "Requirement already satisfied: terminado>=0.8.3 in /usr/local/lib/python3.10/dist-packages (from jupyter-server<3,>=2.4.0->notebook>=6.4.10->great_expectations) (0.17.1)\n",
            "Requirement already satisfied: websocket-client in /usr/local/lib/python3.10/dist-packages (from jupyter-server<3,>=2.4.0->notebook>=6.4.10->great_expectations) (1.6.1)\n",
            "Requirement already satisfied: platformdirs>=2.5 in /usr/local/lib/python3.10/dist-packages (from jupyter-core->nbformat>=5.0->great_expectations) (3.10.0)\n",
            "Requirement already satisfied: async-lru>=1.0.0 in /usr/local/lib/python3.10/dist-packages (from jupyterlab<5,>=4.0.2->notebook>=6.4.10->great_expectations) (2.0.4)\n",
            "Requirement already satisfied: jupyter-lsp>=2.0.0 in /usr/local/lib/python3.10/dist-packages (from jupyterlab<5,>=4.0.2->notebook>=6.4.10->great_expectations) (2.2.0)\n",
            "Requirement already satisfied: tomli in /usr/local/lib/python3.10/dist-packages (from jupyterlab<5,>=4.0.2->notebook>=6.4.10->great_expectations) (2.0.1)\n",
            "Requirement already satisfied: babel>=2.10 in /usr/local/lib/python3.10/dist-packages (from jupyterlab-server<3,>=2.22.1->notebook>=6.4.10->great_expectations) (2.12.1)\n",
            "Requirement already satisfied: json5>=0.9.0 in /usr/local/lib/python3.10/dist-packages (from jupyterlab-server<3,>=2.22.1->notebook>=6.4.10->great_expectations) (0.9.14)\n",
            "Requirement already satisfied: ptyprocess>=0.5 in /usr/local/lib/python3.10/dist-packages (from pexpect>4.3->Ipython>=7.16.3->great_expectations) (0.7.0)\n",
            "Requirement already satisfied: wcwidth in /usr/local/lib/python3.10/dist-packages (from prompt-toolkit!=3.0.0,!=3.0.1,<3.1.0,>=2.0.0->Ipython>=7.16.3->great_expectations) (0.2.6)\n",
            "Requirement already satisfied: sniffio>=1.1 in /usr/local/lib/python3.10/dist-packages (from anyio>=3.1.0->jupyter-server<3,>=2.4.0->notebook>=6.4.10->great_expectations) (1.3.0)\n",
            "Requirement already satisfied: exceptiongroup in /usr/local/lib/python3.10/dist-packages (from anyio>=3.1.0->jupyter-server<3,>=2.4.0->notebook>=6.4.10->great_expectations) (1.1.2)\n",
            "Requirement already satisfied: python-json-logger>=2.0.4 in /usr/local/lib/python3.10/dist-packages (from jupyter-events>=0.6.0->jupyter-server<3,>=2.4.0->notebook>=6.4.10->great_expectations) (2.0.7)\n",
            "Requirement already satisfied: pyyaml>=5.3 in /usr/local/lib/python3.10/dist-packages (from jupyter-events>=0.6.0->jupyter-server<3,>=2.4.0->notebook>=6.4.10->great_expectations) (6.0.1)\n",
            "Requirement already satisfied: rfc3339-validator in /usr/local/lib/python3.10/dist-packages (from jupyter-events>=0.6.0->jupyter-server<3,>=2.4.0->notebook>=6.4.10->great_expectations) (0.1.4)\n",
            "Requirement already satisfied: rfc3986-validator>=0.1.1 in /usr/local/lib/python3.10/dist-packages (from jupyter-events>=0.6.0->jupyter-server<3,>=2.4.0->notebook>=6.4.10->great_expectations) (0.1.1)\n",
            "Requirement already satisfied: lxml in /usr/local/lib/python3.10/dist-packages (from nbconvert>=6.4.4->jupyter-server<3,>=2.4.0->notebook>=6.4.10->great_expectations) (4.9.3)\n",
            "Requirement already satisfied: beautifulsoup4 in /usr/local/lib/python3.10/dist-packages (from nbconvert>=6.4.4->jupyter-server<3,>=2.4.0->notebook>=6.4.10->great_expectations) (4.11.2)\n",
            "Requirement already satisfied: bleach in /usr/local/lib/python3.10/dist-packages (from nbconvert>=6.4.4->jupyter-server<3,>=2.4.0->notebook>=6.4.10->great_expectations) (6.0.0)\n",
            "Requirement already satisfied: defusedxml in /usr/local/lib/python3.10/dist-packages (from nbconvert>=6.4.4->jupyter-server<3,>=2.4.0->notebook>=6.4.10->great_expectations) (0.7.1)\n",
            "Requirement already satisfied: jupyterlab-pygments in /usr/local/lib/python3.10/dist-packages (from nbconvert>=6.4.4->jupyter-server<3,>=2.4.0->notebook>=6.4.10->great_expectations) (0.2.2)\n",
            "Requirement already satisfied: nbclient>=0.5.0 in /usr/local/lib/python3.10/dist-packages (from nbconvert>=6.4.4->jupyter-server<3,>=2.4.0->notebook>=6.4.10->great_expectations) (0.8.0)\n",
            "Requirement already satisfied: pandocfilters>=1.4.1 in /usr/local/lib/python3.10/dist-packages (from nbconvert>=6.4.4->jupyter-server<3,>=2.4.0->notebook>=6.4.10->great_expectations) (1.5.0)\n",
            "Requirement already satisfied: tinycss2 in /usr/local/lib/python3.10/dist-packages (from nbconvert>=6.4.4->jupyter-server<3,>=2.4.0->notebook>=6.4.10->great_expectations) (1.2.1)\n",
            "Requirement already satisfied: argon2-cffi-bindings in /usr/local/lib/python3.10/dist-packages (from argon2-cffi->jupyter-server<3,>=2.4.0->notebook>=6.4.10->great_expectations) (21.2.0)\n",
            "Requirement already satisfied: fqdn in /usr/local/lib/python3.10/dist-packages (from jsonschema>=2.5.1->great_expectations) (1.5.1)\n",
            "Requirement already satisfied: isoduration in /usr/local/lib/python3.10/dist-packages (from jsonschema>=2.5.1->great_expectations) (20.11.0)\n",
            "Requirement already satisfied: uri-template in /usr/local/lib/python3.10/dist-packages (from jsonschema>=2.5.1->great_expectations) (1.3.0)\n",
            "Requirement already satisfied: webcolors>=1.11 in /usr/local/lib/python3.10/dist-packages (from jsonschema>=2.5.1->great_expectations) (1.13)\n",
            "Requirement already satisfied: soupsieve>1.2 in /usr/local/lib/python3.10/dist-packages (from beautifulsoup4->nbconvert>=6.4.4->jupyter-server<3,>=2.4.0->notebook>=6.4.10->great_expectations) (2.4.1)\n",
            "Requirement already satisfied: webencodings in /usr/local/lib/python3.10/dist-packages (from bleach->nbconvert>=6.4.4->jupyter-server<3,>=2.4.0->notebook>=6.4.10->great_expectations) (0.5.1)\n",
            "Requirement already satisfied: arrow>=0.15.0 in /usr/local/lib/python3.10/dist-packages (from isoduration->jsonschema>=2.5.1->great_expectations) (1.2.3)\n"
          ]
        }
      ]
    },
    {
      "cell_type": "markdown",
      "source": [
        "Instalar pyspark"
      ],
      "metadata": {
        "id": "U3UFLfVwd4Eh"
      }
    },
    {
      "cell_type": "code",
      "source": [
        "!pip install pyspark"
      ],
      "metadata": {
        "colab": {
          "base_uri": "https://localhost:8080/"
        },
        "id": "2bYAyMfBdzFD",
        "outputId": "62e62119-3736-4e4c-96f8-f07b116fec6c"
      },
      "execution_count": null,
      "outputs": [
        {
          "output_type": "stream",
          "name": "stdout",
          "text": [
            "Collecting pyspark\n",
            "  Downloading pyspark-3.4.1.tar.gz (310.8 MB)\n",
            "\u001b[2K     \u001b[90m━━━━━━━━━━━━━━━━━━━━━━━━━━━━━━━━━━━━━━━\u001b[0m \u001b[32m310.8/310.8 MB\u001b[0m \u001b[31m3.2 MB/s\u001b[0m eta \u001b[36m0:00:00\u001b[0m\n",
            "\u001b[?25h  Preparing metadata (setup.py) ... \u001b[?25l\u001b[?25hdone\n",
            "Requirement already satisfied: py4j==0.10.9.7 in /usr/local/lib/python3.10/dist-packages (from pyspark) (0.10.9.7)\n",
            "Building wheels for collected packages: pyspark\n",
            "  Building wheel for pyspark (setup.py) ... \u001b[?25l\u001b[?25hdone\n",
            "  Created wheel for pyspark: filename=pyspark-3.4.1-py2.py3-none-any.whl size=311285388 sha256=3ab8c798ea4f6d1fcb1ad35b97204e53dd028d818c6aeb4ae19967dee0c3b68c\n",
            "  Stored in directory: /root/.cache/pip/wheels/0d/77/a3/ff2f74cc9ab41f8f594dabf0579c2a7c6de920d584206e0834\n",
            "Successfully built pyspark\n",
            "Installing collected packages: pyspark\n",
            "Successfully installed pyspark-3.4.1\n"
          ]
        }
      ]
    },
    {
      "cell_type": "markdown",
      "source": [
        "llamar las librerias pyspark y pandas"
      ],
      "metadata": {
        "id": "e43o1BnVeZYq"
      }
    },
    {
      "cell_type": "code",
      "source": [
        "from pyspark.sql import SparkSession\n",
        "import pandas as pd"
      ],
      "metadata": {
        "id": "-7EAnvh1edHh"
      },
      "execution_count": null,
      "outputs": []
    },
    {
      "cell_type": "markdown",
      "source": [
        "Crear un proyecto con SparkSession"
      ],
      "metadata": {
        "id": "v8JNsi3vegUa"
      }
    },
    {
      "cell_type": "code",
      "source": [
        "spark = SparkSession.builder.master(\"local[*]\").appName(\"Great Expectations with Pandas DataFrame\").getOrCreate()"
      ],
      "metadata": {
        "id": "pnYAarhYel0P"
      },
      "execution_count": null,
      "outputs": []
    },
    {
      "cell_type": "markdown",
      "source": [
        "Montar el Drive de google"
      ],
      "metadata": {
        "id": "XyOxVzpPhdBE"
      }
    },
    {
      "cell_type": "code",
      "source": [
        "from google.colab import drive\n",
        "drive.mount('/content/drive')"
      ],
      "metadata": {
        "colab": {
          "base_uri": "https://localhost:8080/"
        },
        "id": "F6eEsBVehke6",
        "outputId": "9f85a3dd-6e0c-4204-ac0b-ef06312299fa"
      },
      "execution_count": null,
      "outputs": [
        {
          "output_type": "stream",
          "name": "stdout",
          "text": [
            "Mounted at /content/drive\n"
          ]
        }
      ]
    },
    {
      "cell_type": "markdown",
      "source": [
        "Direccionar a la ubicación del dataset covid19"
      ],
      "metadata": {
        "id": "0TqkA_LfiYCR"
      }
    },
    {
      "cell_type": "code",
      "source": [
        "folder = \"/content/drive/MyDrive/Indi/pre-processing/covid/datasets\""
      ],
      "metadata": {
        "id": "qFQ4CVcDidMI"
      },
      "execution_count": null,
      "outputs": []
    },
    {
      "cell_type": "code",
      "source": [
        "raw_df = spark.read.option(\"header\", True).csv(folder+\"/positivos_covid31072020.csv\")"
      ],
      "metadata": {
        "id": "HISXpvMXn_v_"
      },
      "execution_count": null,
      "outputs": []
    },
    {
      "cell_type": "markdown",
      "source": [
        "Selección de valores nulos"
      ],
      "metadata": {
        "id": "LCDcLYR7GkNf"
      }
    },
    {
      "cell_type": "code",
      "source": [
        "from functools import reduce\n",
        "import pyspark.sql.functions as f\n",
        "raw_df.where(reduce(lambda x, y: x | y, (f.col(x).isNull() for x in raw_df.columns))).toPandas()"
      ],
      "metadata": {
        "colab": {
          "base_uri": "https://localhost:8080/",
          "height": 677
        },
        "id": "i7r4gIkZHjnn",
        "outputId": "85439031-4a36-4f20-c818-cc7fb8267732"
      },
      "execution_count": null,
      "outputs": [
        {
          "output_type": "execute_result",
          "data": {
            "text/plain": [
              "                                UUID DEPARTAMENTO          PROVINCIA  \\\n",
              "0   5e04371f652e0e774b701baaf65c1184         LIMA               LIMA   \n",
              "1   3e192fe28e75bb577a1eac93f4094aed  LA LIBERTAD           TRUJILLO   \n",
              "2   fce6d0fb824ee4678f967ca00d09871f  LA LIBERTAD           TRUJILLO   \n",
              "3   026062488afe986160c8a5e5be3ce6ec  LIMA REGION             YAUYOS   \n",
              "4   fe787d75bd62bcba52e0be1808257f7f  LIMA REGION   EN INVESTIGACIÓN   \n",
              "5   35516f9ddddc09b7978b42907a43d9a0         LIMA               LIMA   \n",
              "6   dd3855d43369d27371a541ae1ba00ea6         LIMA               LIMA   \n",
              "7   2521806eafd871216007fc28bbabc9ff         LIMA               LIMA   \n",
              "8   cd508335c8331f86e82796ba17bf04e1  LIMA REGION   EN INVESTIGACIÓN   \n",
              "9   7643fb1801314e7baf40c802d859d30d  LIMA REGION   EN INVESTIGACIÓN   \n",
              "10  f7825b31971adc88547d40f4da13496e  LIMA REGION   EN INVESTIGACIÓN   \n",
              "11  b2bf29f8d1448f50c0b63e1a22829f3e  LIMA REGION             HUARAL   \n",
              "12  e3f40b32f45a68aedcd8029aa7c89b5c  LA LIBERTAD  SANTIAGO DE CHUCO   \n",
              "13  8c4d52b73532ba87ece5b816eea12aa2  LA LIBERTAD           TRUJILLO   \n",
              "14  6a42a2ef93fbb2e3996d8b5c174e0135       LORETO             MAYNAS   \n",
              "15  242d37685f13a0c16405653b760875f2     AMAZONAS              BAGUA   \n",
              "16  8019b88dbed02d0b7a22cd993d23faa6     AMAZONAS              BAGUA   \n",
              "17  c083ccad63580539ac181b7035aedd0f         LIMA               LIMA   \n",
              "18  f4df85d888745e1d4c190ec699a2c910  LIMA REGION   EN INVESTIGACIÓN   \n",
              "19  827a9e5c1b7d67127a6085b641b2e8c1  LIMA REGION   EN INVESTIGACIÓN   \n",
              "\n",
              "             DISTRITO METODODX  EDAD       SEXO FECHA_RESULTADO  \n",
              "0                LIMA      PCR  None  MASCULINO        20200728  \n",
              "1        LA ESPERANZA      PCR  None  MASCULINO        20200729  \n",
              "2        LA ESPERANZA      PCR  None  MASCULINO        20200729  \n",
              "3            HUAMPARA       PR  None   FEMENINO        20200504  \n",
              "4    EN INVESTIGACIÓN       PR  None  MASCULINO        20200404  \n",
              "5           SURQUILLO       PR  None  MASCULINO        20200729  \n",
              "6           SURQUILLO       PR  None   FEMENINO        20200729  \n",
              "7                 ATE       PR  None  MASCULINO        20200729  \n",
              "8    EN INVESTIGACIÓN       PR  None   FEMENINO        20200403  \n",
              "9    EN INVESTIGACIÓN       PR  None   FEMENINO        20200427  \n",
              "10   EN INVESTIGACIÓN       PR  None   FEMENINO        20200427  \n",
              "11     ATAVILLOS ALTO       PR  None   FEMENINO        20200429  \n",
              "12  SANTIAGO DE CHUCO      PCR  None  MASCULINO        20200730  \n",
              "13           TRUJILLO      PCR  None  MASCULINO        20200730  \n",
              "14           PUNCHANA      PCR  None   FEMENINO        20200730  \n",
              "15              BAGUA      PCR  None  MASCULINO        20200731  \n",
              "16              BAGUA      PCR  None  MASCULINO        20200731  \n",
              "17               LIMA      PCR  None  MASCULINO        20200731  \n",
              "18   EN INVESTIGACIÓN       PR  None  MASCULINO        20200421  \n",
              "19   EN INVESTIGACIÓN       PR  None  MASCULINO        20200421  "
            ],
            "text/html": [
              "\n",
              "\n",
              "  <div id=\"df-51cbab27-cb3f-4b7d-80a8-a559ab091474\">\n",
              "    <div class=\"colab-df-container\">\n",
              "      <div>\n",
              "<style scoped>\n",
              "    .dataframe tbody tr th:only-of-type {\n",
              "        vertical-align: middle;\n",
              "    }\n",
              "\n",
              "    .dataframe tbody tr th {\n",
              "        vertical-align: top;\n",
              "    }\n",
              "\n",
              "    .dataframe thead th {\n",
              "        text-align: right;\n",
              "    }\n",
              "</style>\n",
              "<table border=\"1\" class=\"dataframe\">\n",
              "  <thead>\n",
              "    <tr style=\"text-align: right;\">\n",
              "      <th></th>\n",
              "      <th>UUID</th>\n",
              "      <th>DEPARTAMENTO</th>\n",
              "      <th>PROVINCIA</th>\n",
              "      <th>DISTRITO</th>\n",
              "      <th>METODODX</th>\n",
              "      <th>EDAD</th>\n",
              "      <th>SEXO</th>\n",
              "      <th>FECHA_RESULTADO</th>\n",
              "    </tr>\n",
              "  </thead>\n",
              "  <tbody>\n",
              "    <tr>\n",
              "      <th>0</th>\n",
              "      <td>5e04371f652e0e774b701baaf65c1184</td>\n",
              "      <td>LIMA</td>\n",
              "      <td>LIMA</td>\n",
              "      <td>LIMA</td>\n",
              "      <td>PCR</td>\n",
              "      <td>None</td>\n",
              "      <td>MASCULINO</td>\n",
              "      <td>20200728</td>\n",
              "    </tr>\n",
              "    <tr>\n",
              "      <th>1</th>\n",
              "      <td>3e192fe28e75bb577a1eac93f4094aed</td>\n",
              "      <td>LA LIBERTAD</td>\n",
              "      <td>TRUJILLO</td>\n",
              "      <td>LA ESPERANZA</td>\n",
              "      <td>PCR</td>\n",
              "      <td>None</td>\n",
              "      <td>MASCULINO</td>\n",
              "      <td>20200729</td>\n",
              "    </tr>\n",
              "    <tr>\n",
              "      <th>2</th>\n",
              "      <td>fce6d0fb824ee4678f967ca00d09871f</td>\n",
              "      <td>LA LIBERTAD</td>\n",
              "      <td>TRUJILLO</td>\n",
              "      <td>LA ESPERANZA</td>\n",
              "      <td>PCR</td>\n",
              "      <td>None</td>\n",
              "      <td>MASCULINO</td>\n",
              "      <td>20200729</td>\n",
              "    </tr>\n",
              "    <tr>\n",
              "      <th>3</th>\n",
              "      <td>026062488afe986160c8a5e5be3ce6ec</td>\n",
              "      <td>LIMA REGION</td>\n",
              "      <td>YAUYOS</td>\n",
              "      <td>HUAMPARA</td>\n",
              "      <td>PR</td>\n",
              "      <td>None</td>\n",
              "      <td>FEMENINO</td>\n",
              "      <td>20200504</td>\n",
              "    </tr>\n",
              "    <tr>\n",
              "      <th>4</th>\n",
              "      <td>fe787d75bd62bcba52e0be1808257f7f</td>\n",
              "      <td>LIMA REGION</td>\n",
              "      <td>EN INVESTIGACIÓN</td>\n",
              "      <td>EN INVESTIGACIÓN</td>\n",
              "      <td>PR</td>\n",
              "      <td>None</td>\n",
              "      <td>MASCULINO</td>\n",
              "      <td>20200404</td>\n",
              "    </tr>\n",
              "    <tr>\n",
              "      <th>5</th>\n",
              "      <td>35516f9ddddc09b7978b42907a43d9a0</td>\n",
              "      <td>LIMA</td>\n",
              "      <td>LIMA</td>\n",
              "      <td>SURQUILLO</td>\n",
              "      <td>PR</td>\n",
              "      <td>None</td>\n",
              "      <td>MASCULINO</td>\n",
              "      <td>20200729</td>\n",
              "    </tr>\n",
              "    <tr>\n",
              "      <th>6</th>\n",
              "      <td>dd3855d43369d27371a541ae1ba00ea6</td>\n",
              "      <td>LIMA</td>\n",
              "      <td>LIMA</td>\n",
              "      <td>SURQUILLO</td>\n",
              "      <td>PR</td>\n",
              "      <td>None</td>\n",
              "      <td>FEMENINO</td>\n",
              "      <td>20200729</td>\n",
              "    </tr>\n",
              "    <tr>\n",
              "      <th>7</th>\n",
              "      <td>2521806eafd871216007fc28bbabc9ff</td>\n",
              "      <td>LIMA</td>\n",
              "      <td>LIMA</td>\n",
              "      <td>ATE</td>\n",
              "      <td>PR</td>\n",
              "      <td>None</td>\n",
              "      <td>MASCULINO</td>\n",
              "      <td>20200729</td>\n",
              "    </tr>\n",
              "    <tr>\n",
              "      <th>8</th>\n",
              "      <td>cd508335c8331f86e82796ba17bf04e1</td>\n",
              "      <td>LIMA REGION</td>\n",
              "      <td>EN INVESTIGACIÓN</td>\n",
              "      <td>EN INVESTIGACIÓN</td>\n",
              "      <td>PR</td>\n",
              "      <td>None</td>\n",
              "      <td>FEMENINO</td>\n",
              "      <td>20200403</td>\n",
              "    </tr>\n",
              "    <tr>\n",
              "      <th>9</th>\n",
              "      <td>7643fb1801314e7baf40c802d859d30d</td>\n",
              "      <td>LIMA REGION</td>\n",
              "      <td>EN INVESTIGACIÓN</td>\n",
              "      <td>EN INVESTIGACIÓN</td>\n",
              "      <td>PR</td>\n",
              "      <td>None</td>\n",
              "      <td>FEMENINO</td>\n",
              "      <td>20200427</td>\n",
              "    </tr>\n",
              "    <tr>\n",
              "      <th>10</th>\n",
              "      <td>f7825b31971adc88547d40f4da13496e</td>\n",
              "      <td>LIMA REGION</td>\n",
              "      <td>EN INVESTIGACIÓN</td>\n",
              "      <td>EN INVESTIGACIÓN</td>\n",
              "      <td>PR</td>\n",
              "      <td>None</td>\n",
              "      <td>FEMENINO</td>\n",
              "      <td>20200427</td>\n",
              "    </tr>\n",
              "    <tr>\n",
              "      <th>11</th>\n",
              "      <td>b2bf29f8d1448f50c0b63e1a22829f3e</td>\n",
              "      <td>LIMA REGION</td>\n",
              "      <td>HUARAL</td>\n",
              "      <td>ATAVILLOS ALTO</td>\n",
              "      <td>PR</td>\n",
              "      <td>None</td>\n",
              "      <td>FEMENINO</td>\n",
              "      <td>20200429</td>\n",
              "    </tr>\n",
              "    <tr>\n",
              "      <th>12</th>\n",
              "      <td>e3f40b32f45a68aedcd8029aa7c89b5c</td>\n",
              "      <td>LA LIBERTAD</td>\n",
              "      <td>SANTIAGO DE CHUCO</td>\n",
              "      <td>SANTIAGO DE CHUCO</td>\n",
              "      <td>PCR</td>\n",
              "      <td>None</td>\n",
              "      <td>MASCULINO</td>\n",
              "      <td>20200730</td>\n",
              "    </tr>\n",
              "    <tr>\n",
              "      <th>13</th>\n",
              "      <td>8c4d52b73532ba87ece5b816eea12aa2</td>\n",
              "      <td>LA LIBERTAD</td>\n",
              "      <td>TRUJILLO</td>\n",
              "      <td>TRUJILLO</td>\n",
              "      <td>PCR</td>\n",
              "      <td>None</td>\n",
              "      <td>MASCULINO</td>\n",
              "      <td>20200730</td>\n",
              "    </tr>\n",
              "    <tr>\n",
              "      <th>14</th>\n",
              "      <td>6a42a2ef93fbb2e3996d8b5c174e0135</td>\n",
              "      <td>LORETO</td>\n",
              "      <td>MAYNAS</td>\n",
              "      <td>PUNCHANA</td>\n",
              "      <td>PCR</td>\n",
              "      <td>None</td>\n",
              "      <td>FEMENINO</td>\n",
              "      <td>20200730</td>\n",
              "    </tr>\n",
              "    <tr>\n",
              "      <th>15</th>\n",
              "      <td>242d37685f13a0c16405653b760875f2</td>\n",
              "      <td>AMAZONAS</td>\n",
              "      <td>BAGUA</td>\n",
              "      <td>BAGUA</td>\n",
              "      <td>PCR</td>\n",
              "      <td>None</td>\n",
              "      <td>MASCULINO</td>\n",
              "      <td>20200731</td>\n",
              "    </tr>\n",
              "    <tr>\n",
              "      <th>16</th>\n",
              "      <td>8019b88dbed02d0b7a22cd993d23faa6</td>\n",
              "      <td>AMAZONAS</td>\n",
              "      <td>BAGUA</td>\n",
              "      <td>BAGUA</td>\n",
              "      <td>PCR</td>\n",
              "      <td>None</td>\n",
              "      <td>MASCULINO</td>\n",
              "      <td>20200731</td>\n",
              "    </tr>\n",
              "    <tr>\n",
              "      <th>17</th>\n",
              "      <td>c083ccad63580539ac181b7035aedd0f</td>\n",
              "      <td>LIMA</td>\n",
              "      <td>LIMA</td>\n",
              "      <td>LIMA</td>\n",
              "      <td>PCR</td>\n",
              "      <td>None</td>\n",
              "      <td>MASCULINO</td>\n",
              "      <td>20200731</td>\n",
              "    </tr>\n",
              "    <tr>\n",
              "      <th>18</th>\n",
              "      <td>f4df85d888745e1d4c190ec699a2c910</td>\n",
              "      <td>LIMA REGION</td>\n",
              "      <td>EN INVESTIGACIÓN</td>\n",
              "      <td>EN INVESTIGACIÓN</td>\n",
              "      <td>PR</td>\n",
              "      <td>None</td>\n",
              "      <td>MASCULINO</td>\n",
              "      <td>20200421</td>\n",
              "    </tr>\n",
              "    <tr>\n",
              "      <th>19</th>\n",
              "      <td>827a9e5c1b7d67127a6085b641b2e8c1</td>\n",
              "      <td>LIMA REGION</td>\n",
              "      <td>EN INVESTIGACIÓN</td>\n",
              "      <td>EN INVESTIGACIÓN</td>\n",
              "      <td>PR</td>\n",
              "      <td>None</td>\n",
              "      <td>MASCULINO</td>\n",
              "      <td>20200421</td>\n",
              "    </tr>\n",
              "  </tbody>\n",
              "</table>\n",
              "</div>\n",
              "      <button class=\"colab-df-convert\" onclick=\"convertToInteractive('df-51cbab27-cb3f-4b7d-80a8-a559ab091474')\"\n",
              "              title=\"Convert this dataframe to an interactive table.\"\n",
              "              style=\"display:none;\">\n",
              "\n",
              "  <svg xmlns=\"http://www.w3.org/2000/svg\" height=\"24px\"viewBox=\"0 0 24 24\"\n",
              "       width=\"24px\">\n",
              "    <path d=\"M0 0h24v24H0V0z\" fill=\"none\"/>\n",
              "    <path d=\"M18.56 5.44l.94 2.06.94-2.06 2.06-.94-2.06-.94-.94-2.06-.94 2.06-2.06.94zm-11 1L8.5 8.5l.94-2.06 2.06-.94-2.06-.94L8.5 2.5l-.94 2.06-2.06.94zm10 10l.94 2.06.94-2.06 2.06-.94-2.06-.94-.94-2.06-.94 2.06-2.06.94z\"/><path d=\"M17.41 7.96l-1.37-1.37c-.4-.4-.92-.59-1.43-.59-.52 0-1.04.2-1.43.59L10.3 9.45l-7.72 7.72c-.78.78-.78 2.05 0 2.83L4 21.41c.39.39.9.59 1.41.59.51 0 1.02-.2 1.41-.59l7.78-7.78 2.81-2.81c.8-.78.8-2.07 0-2.86zM5.41 20L4 18.59l7.72-7.72 1.47 1.35L5.41 20z\"/>\n",
              "  </svg>\n",
              "      </button>\n",
              "\n",
              "\n",
              "\n",
              "    <div id=\"df-31aaff34-6874-4d93-af68-1cb5c2008cef\">\n",
              "      <button class=\"colab-df-quickchart\" onclick=\"quickchart('df-31aaff34-6874-4d93-af68-1cb5c2008cef')\"\n",
              "              title=\"Suggest charts.\"\n",
              "              style=\"display:none;\">\n",
              "\n",
              "<svg xmlns=\"http://www.w3.org/2000/svg\" height=\"24px\"viewBox=\"0 0 24 24\"\n",
              "     width=\"24px\">\n",
              "    <g>\n",
              "        <path d=\"M19 3H5c-1.1 0-2 .9-2 2v14c0 1.1.9 2 2 2h14c1.1 0 2-.9 2-2V5c0-1.1-.9-2-2-2zM9 17H7v-7h2v7zm4 0h-2V7h2v10zm4 0h-2v-4h2v4z\"/>\n",
              "    </g>\n",
              "</svg>\n",
              "      </button>\n",
              "    </div>\n",
              "\n",
              "<style>\n",
              "  .colab-df-quickchart {\n",
              "    background-color: #E8F0FE;\n",
              "    border: none;\n",
              "    border-radius: 50%;\n",
              "    cursor: pointer;\n",
              "    display: none;\n",
              "    fill: #1967D2;\n",
              "    height: 32px;\n",
              "    padding: 0 0 0 0;\n",
              "    width: 32px;\n",
              "  }\n",
              "\n",
              "  .colab-df-quickchart:hover {\n",
              "    background-color: #E2EBFA;\n",
              "    box-shadow: 0px 1px 2px rgba(60, 64, 67, 0.3), 0px 1px 3px 1px rgba(60, 64, 67, 0.15);\n",
              "    fill: #174EA6;\n",
              "  }\n",
              "\n",
              "  [theme=dark] .colab-df-quickchart {\n",
              "    background-color: #3B4455;\n",
              "    fill: #D2E3FC;\n",
              "  }\n",
              "\n",
              "  [theme=dark] .colab-df-quickchart:hover {\n",
              "    background-color: #434B5C;\n",
              "    box-shadow: 0px 1px 3px 1px rgba(0, 0, 0, 0.15);\n",
              "    filter: drop-shadow(0px 1px 2px rgba(0, 0, 0, 0.3));\n",
              "    fill: #FFFFFF;\n",
              "  }\n",
              "</style>\n",
              "\n",
              "    <script>\n",
              "      async function quickchart(key) {\n",
              "        const containerElement = document.querySelector('#' + key);\n",
              "        const charts = await google.colab.kernel.invokeFunction(\n",
              "            'suggestCharts', [key], {});\n",
              "      }\n",
              "    </script>\n",
              "\n",
              "      <script>\n",
              "\n",
              "function displayQuickchartButton(domScope) {\n",
              "  let quickchartButtonEl =\n",
              "    domScope.querySelector('#df-31aaff34-6874-4d93-af68-1cb5c2008cef button.colab-df-quickchart');\n",
              "  quickchartButtonEl.style.display =\n",
              "    google.colab.kernel.accessAllowed ? 'block' : 'none';\n",
              "}\n",
              "\n",
              "        displayQuickchartButton(document);\n",
              "      </script>\n",
              "      <style>\n",
              "    .colab-df-container {\n",
              "      display:flex;\n",
              "      flex-wrap:wrap;\n",
              "      gap: 12px;\n",
              "    }\n",
              "\n",
              "    .colab-df-convert {\n",
              "      background-color: #E8F0FE;\n",
              "      border: none;\n",
              "      border-radius: 50%;\n",
              "      cursor: pointer;\n",
              "      display: none;\n",
              "      fill: #1967D2;\n",
              "      height: 32px;\n",
              "      padding: 0 0 0 0;\n",
              "      width: 32px;\n",
              "    }\n",
              "\n",
              "    .colab-df-convert:hover {\n",
              "      background-color: #E2EBFA;\n",
              "      box-shadow: 0px 1px 2px rgba(60, 64, 67, 0.3), 0px 1px 3px 1px rgba(60, 64, 67, 0.15);\n",
              "      fill: #174EA6;\n",
              "    }\n",
              "\n",
              "    [theme=dark] .colab-df-convert {\n",
              "      background-color: #3B4455;\n",
              "      fill: #D2E3FC;\n",
              "    }\n",
              "\n",
              "    [theme=dark] .colab-df-convert:hover {\n",
              "      background-color: #434B5C;\n",
              "      box-shadow: 0px 1px 3px 1px rgba(0, 0, 0, 0.15);\n",
              "      filter: drop-shadow(0px 1px 2px rgba(0, 0, 0, 0.3));\n",
              "      fill: #FFFFFF;\n",
              "    }\n",
              "  </style>\n",
              "\n",
              "      <script>\n",
              "        const buttonEl =\n",
              "          document.querySelector('#df-51cbab27-cb3f-4b7d-80a8-a559ab091474 button.colab-df-convert');\n",
              "        buttonEl.style.display =\n",
              "          google.colab.kernel.accessAllowed ? 'block' : 'none';\n",
              "\n",
              "        async function convertToInteractive(key) {\n",
              "          const element = document.querySelector('#df-51cbab27-cb3f-4b7d-80a8-a559ab091474');\n",
              "          const dataTable =\n",
              "            await google.colab.kernel.invokeFunction('convertToInteractive',\n",
              "                                                     [key], {});\n",
              "          if (!dataTable) return;\n",
              "\n",
              "          const docLinkHtml = 'Like what you see? Visit the ' +\n",
              "            '<a target=\"_blank\" href=https://colab.research.google.com/notebooks/data_table.ipynb>data table notebook</a>'\n",
              "            + ' to learn more about interactive tables.';\n",
              "          element.innerHTML = '';\n",
              "          dataTable['output_type'] = 'display_data';\n",
              "          await google.colab.output.renderOutput(dataTable, element);\n",
              "          const docLink = document.createElement('div');\n",
              "          docLink.innerHTML = docLinkHtml;\n",
              "          element.appendChild(docLink);\n",
              "        }\n",
              "      </script>\n",
              "    </div>\n",
              "  </div>\n"
            ]
          },
          "metadata": {},
          "execution_count": 12
        }
      ]
    },
    {
      "cell_type": "markdown",
      "source": [
        "Crear una vista de casos positivos (como en SQL)"
      ],
      "metadata": {
        "id": "0_cvdXhrpA8H"
      }
    },
    {
      "cell_type": "code",
      "source": [
        "raw_df.createOrReplaceTempView(\"Casos\")"
      ],
      "metadata": {
        "id": "MA9XZwIBpFOH"
      },
      "execution_count": null,
      "outputs": []
    },
    {
      "cell_type": "markdown",
      "source": [
        "Verificar el tipo de dato"
      ],
      "metadata": {
        "id": "UdSlHe0FpSw3"
      }
    },
    {
      "cell_type": "code",
      "source": [
        "type(raw_df)"
      ],
      "metadata": {
        "colab": {
          "base_uri": "https://localhost:8080/"
        },
        "id": "50Ne2H8wpXLT",
        "outputId": "0be4ad8c-4d06-4e1e-d652-4ffdbb697657"
      },
      "execution_count": null,
      "outputs": [
        {
          "output_type": "execute_result",
          "data": {
            "text/plain": [
              "pyspark.sql.dataframe.DataFrame"
            ]
          },
          "metadata": {},
          "execution_count": 10
        }
      ]
    },
    {
      "cell_type": "markdown",
      "source": [
        "Descripción de los atributos"
      ],
      "metadata": {
        "id": "z-kUWwQopYqa"
      }
    },
    {
      "cell_type": "code",
      "source": [
        "raw_df.printSchema()"
      ],
      "metadata": {
        "colab": {
          "base_uri": "https://localhost:8080/"
        },
        "id": "oBbFMEbape8z",
        "outputId": "5aff0ab3-01cc-48c0-bf0b-e2598254c8a3"
      },
      "execution_count": null,
      "outputs": [
        {
          "output_type": "stream",
          "name": "stdout",
          "text": [
            "root\n",
            " |-- UUID: string (nullable = true)\n",
            " |-- DEPARTAMENTO: string (nullable = true)\n",
            " |-- PROVINCIA: string (nullable = true)\n",
            " |-- DISTRITO: string (nullable = true)\n",
            " |-- METODODX: string (nullable = true)\n",
            " |-- EDAD: string (nullable = true)\n",
            " |-- SEXO: string (nullable = true)\n",
            " |-- FECHA_RESULTADO: string (nullable = true)\n",
            "\n"
          ]
        }
      ]
    },
    {
      "cell_type": "markdown",
      "source": [
        "Visualizar con pandas"
      ],
      "metadata": {
        "id": "8MsLrotFp17o"
      }
    },
    {
      "cell_type": "code",
      "source": [
        "raw_df.toPandas()"
      ],
      "metadata": {
        "colab": {
          "base_uri": "https://localhost:8080/",
          "height": 424
        },
        "id": "wPdFrChtp4W7",
        "outputId": "c7292752-d5db-4dc4-ac8d-e4bf7583735c"
      },
      "execution_count": null,
      "outputs": [
        {
          "output_type": "execute_result",
          "data": {
            "text/plain": [
              "                                    UUID DEPARTAMENTO         PROVINCIA  \\\n",
              "0       7320cabdc1aaca6c59014cae76a134e6    CAJAMARCA              JAEN   \n",
              "1       e81602051997ace8340bb8c18fe24c65         LIMA  EN INVESTIGACIÓN   \n",
              "2       cecdbf10074dbc011ae05b3cbd320a6f         LIMA              LIMA   \n",
              "3       71ecb6bccb248b0bb2ac72ed51b5e979         LIMA  EN INVESTIGACIÓN   \n",
              "4       566af4276cbe9359abe93f9aa86396c3       CALLAO            CALLAO   \n",
              "...                                  ...          ...               ...   \n",
              "422178  148e34af81e6be83f7a6a8c5f0f89340       CALLAO            CALLAO   \n",
              "422179  dce015f602fd831f2d85fefc9e1663fd       LORETO            LORETO   \n",
              "422180  2ca1588b93f4c1da6f4e0f1e18babc0f   LAMBAYEQUE          CHICLAYO   \n",
              "422181  b3e4195a6c114615a22449068770d78c          ICA               ICA   \n",
              "422182  05a3946b584d5c7549deb00e32471005  LA LIBERTAD          TRUJILLO   \n",
              "\n",
              "                DISTRITO METODODX EDAD       SEXO FECHA_RESULTADO  \n",
              "0                   JAEN      PCR   64  MASCULINO        20200715  \n",
              "1       EN INVESTIGACIÓN      PCR   68  MASCULINO        20200716  \n",
              "2             LOS OLIVOS      PCR   52  MASCULINO        20200716  \n",
              "3       EN INVESTIGACIÓN      PCR   42  MASCULINO        20200716  \n",
              "4             BELLAVISTA      PCR   34  MASCULINO        20200716  \n",
              "...                  ...      ...  ...        ...             ...  \n",
              "422178            CALLAO       PR   22   FEMENINO        20200720  \n",
              "422179             TIGRE       PR    0   FEMENINO        20200715  \n",
              "422180             REQUE       PR    0   FEMENINO        20200730  \n",
              "422181               ICA       PR    4   FEMENINO        20200727  \n",
              "422182          TRUJILLO       PR    8   FEMENINO        20200727  \n",
              "\n",
              "[422183 rows x 8 columns]"
            ],
            "text/html": [
              "\n",
              "  <div id=\"df-90aca29e-9ab4-456a-8268-6264a5b76bf6\">\n",
              "    <div class=\"colab-df-container\">\n",
              "      <div>\n",
              "<style scoped>\n",
              "    .dataframe tbody tr th:only-of-type {\n",
              "        vertical-align: middle;\n",
              "    }\n",
              "\n",
              "    .dataframe tbody tr th {\n",
              "        vertical-align: top;\n",
              "    }\n",
              "\n",
              "    .dataframe thead th {\n",
              "        text-align: right;\n",
              "    }\n",
              "</style>\n",
              "<table border=\"1\" class=\"dataframe\">\n",
              "  <thead>\n",
              "    <tr style=\"text-align: right;\">\n",
              "      <th></th>\n",
              "      <th>UUID</th>\n",
              "      <th>DEPARTAMENTO</th>\n",
              "      <th>PROVINCIA</th>\n",
              "      <th>DISTRITO</th>\n",
              "      <th>METODODX</th>\n",
              "      <th>EDAD</th>\n",
              "      <th>SEXO</th>\n",
              "      <th>FECHA_RESULTADO</th>\n",
              "    </tr>\n",
              "  </thead>\n",
              "  <tbody>\n",
              "    <tr>\n",
              "      <th>0</th>\n",
              "      <td>7320cabdc1aaca6c59014cae76a134e6</td>\n",
              "      <td>CAJAMARCA</td>\n",
              "      <td>JAEN</td>\n",
              "      <td>JAEN</td>\n",
              "      <td>PCR</td>\n",
              "      <td>64</td>\n",
              "      <td>MASCULINO</td>\n",
              "      <td>20200715</td>\n",
              "    </tr>\n",
              "    <tr>\n",
              "      <th>1</th>\n",
              "      <td>e81602051997ace8340bb8c18fe24c65</td>\n",
              "      <td>LIMA</td>\n",
              "      <td>EN INVESTIGACIÓN</td>\n",
              "      <td>EN INVESTIGACIÓN</td>\n",
              "      <td>PCR</td>\n",
              "      <td>68</td>\n",
              "      <td>MASCULINO</td>\n",
              "      <td>20200716</td>\n",
              "    </tr>\n",
              "    <tr>\n",
              "      <th>2</th>\n",
              "      <td>cecdbf10074dbc011ae05b3cbd320a6f</td>\n",
              "      <td>LIMA</td>\n",
              "      <td>LIMA</td>\n",
              "      <td>LOS OLIVOS</td>\n",
              "      <td>PCR</td>\n",
              "      <td>52</td>\n",
              "      <td>MASCULINO</td>\n",
              "      <td>20200716</td>\n",
              "    </tr>\n",
              "    <tr>\n",
              "      <th>3</th>\n",
              "      <td>71ecb6bccb248b0bb2ac72ed51b5e979</td>\n",
              "      <td>LIMA</td>\n",
              "      <td>EN INVESTIGACIÓN</td>\n",
              "      <td>EN INVESTIGACIÓN</td>\n",
              "      <td>PCR</td>\n",
              "      <td>42</td>\n",
              "      <td>MASCULINO</td>\n",
              "      <td>20200716</td>\n",
              "    </tr>\n",
              "    <tr>\n",
              "      <th>4</th>\n",
              "      <td>566af4276cbe9359abe93f9aa86396c3</td>\n",
              "      <td>CALLAO</td>\n",
              "      <td>CALLAO</td>\n",
              "      <td>BELLAVISTA</td>\n",
              "      <td>PCR</td>\n",
              "      <td>34</td>\n",
              "      <td>MASCULINO</td>\n",
              "      <td>20200716</td>\n",
              "    </tr>\n",
              "    <tr>\n",
              "      <th>...</th>\n",
              "      <td>...</td>\n",
              "      <td>...</td>\n",
              "      <td>...</td>\n",
              "      <td>...</td>\n",
              "      <td>...</td>\n",
              "      <td>...</td>\n",
              "      <td>...</td>\n",
              "      <td>...</td>\n",
              "    </tr>\n",
              "    <tr>\n",
              "      <th>422178</th>\n",
              "      <td>148e34af81e6be83f7a6a8c5f0f89340</td>\n",
              "      <td>CALLAO</td>\n",
              "      <td>CALLAO</td>\n",
              "      <td>CALLAO</td>\n",
              "      <td>PR</td>\n",
              "      <td>22</td>\n",
              "      <td>FEMENINO</td>\n",
              "      <td>20200720</td>\n",
              "    </tr>\n",
              "    <tr>\n",
              "      <th>422179</th>\n",
              "      <td>dce015f602fd831f2d85fefc9e1663fd</td>\n",
              "      <td>LORETO</td>\n",
              "      <td>LORETO</td>\n",
              "      <td>TIGRE</td>\n",
              "      <td>PR</td>\n",
              "      <td>0</td>\n",
              "      <td>FEMENINO</td>\n",
              "      <td>20200715</td>\n",
              "    </tr>\n",
              "    <tr>\n",
              "      <th>422180</th>\n",
              "      <td>2ca1588b93f4c1da6f4e0f1e18babc0f</td>\n",
              "      <td>LAMBAYEQUE</td>\n",
              "      <td>CHICLAYO</td>\n",
              "      <td>REQUE</td>\n",
              "      <td>PR</td>\n",
              "      <td>0</td>\n",
              "      <td>FEMENINO</td>\n",
              "      <td>20200730</td>\n",
              "    </tr>\n",
              "    <tr>\n",
              "      <th>422181</th>\n",
              "      <td>b3e4195a6c114615a22449068770d78c</td>\n",
              "      <td>ICA</td>\n",
              "      <td>ICA</td>\n",
              "      <td>ICA</td>\n",
              "      <td>PR</td>\n",
              "      <td>4</td>\n",
              "      <td>FEMENINO</td>\n",
              "      <td>20200727</td>\n",
              "    </tr>\n",
              "    <tr>\n",
              "      <th>422182</th>\n",
              "      <td>05a3946b584d5c7549deb00e32471005</td>\n",
              "      <td>LA LIBERTAD</td>\n",
              "      <td>TRUJILLO</td>\n",
              "      <td>TRUJILLO</td>\n",
              "      <td>PR</td>\n",
              "      <td>8</td>\n",
              "      <td>FEMENINO</td>\n",
              "      <td>20200727</td>\n",
              "    </tr>\n",
              "  </tbody>\n",
              "</table>\n",
              "<p>422183 rows × 8 columns</p>\n",
              "</div>\n",
              "      <button class=\"colab-df-convert\" onclick=\"convertToInteractive('df-90aca29e-9ab4-456a-8268-6264a5b76bf6')\"\n",
              "              title=\"Convert this dataframe to an interactive table.\"\n",
              "              style=\"display:none;\">\n",
              "        \n",
              "  <svg xmlns=\"http://www.w3.org/2000/svg\" height=\"24px\"viewBox=\"0 0 24 24\"\n",
              "       width=\"24px\">\n",
              "    <path d=\"M0 0h24v24H0V0z\" fill=\"none\"/>\n",
              "    <path d=\"M18.56 5.44l.94 2.06.94-2.06 2.06-.94-2.06-.94-.94-2.06-.94 2.06-2.06.94zm-11 1L8.5 8.5l.94-2.06 2.06-.94-2.06-.94L8.5 2.5l-.94 2.06-2.06.94zm10 10l.94 2.06.94-2.06 2.06-.94-2.06-.94-.94-2.06-.94 2.06-2.06.94z\"/><path d=\"M17.41 7.96l-1.37-1.37c-.4-.4-.92-.59-1.43-.59-.52 0-1.04.2-1.43.59L10.3 9.45l-7.72 7.72c-.78.78-.78 2.05 0 2.83L4 21.41c.39.39.9.59 1.41.59.51 0 1.02-.2 1.41-.59l7.78-7.78 2.81-2.81c.8-.78.8-2.07 0-2.86zM5.41 20L4 18.59l7.72-7.72 1.47 1.35L5.41 20z\"/>\n",
              "  </svg>\n",
              "      </button>\n",
              "      \n",
              "  <style>\n",
              "    .colab-df-container {\n",
              "      display:flex;\n",
              "      flex-wrap:wrap;\n",
              "      gap: 12px;\n",
              "    }\n",
              "\n",
              "    .colab-df-convert {\n",
              "      background-color: #E8F0FE;\n",
              "      border: none;\n",
              "      border-radius: 50%;\n",
              "      cursor: pointer;\n",
              "      display: none;\n",
              "      fill: #1967D2;\n",
              "      height: 32px;\n",
              "      padding: 0 0 0 0;\n",
              "      width: 32px;\n",
              "    }\n",
              "\n",
              "    .colab-df-convert:hover {\n",
              "      background-color: #E2EBFA;\n",
              "      box-shadow: 0px 1px 2px rgba(60, 64, 67, 0.3), 0px 1px 3px 1px rgba(60, 64, 67, 0.15);\n",
              "      fill: #174EA6;\n",
              "    }\n",
              "\n",
              "    [theme=dark] .colab-df-convert {\n",
              "      background-color: #3B4455;\n",
              "      fill: #D2E3FC;\n",
              "    }\n",
              "\n",
              "    [theme=dark] .colab-df-convert:hover {\n",
              "      background-color: #434B5C;\n",
              "      box-shadow: 0px 1px 3px 1px rgba(0, 0, 0, 0.15);\n",
              "      filter: drop-shadow(0px 1px 2px rgba(0, 0, 0, 0.3));\n",
              "      fill: #FFFFFF;\n",
              "    }\n",
              "  </style>\n",
              "\n",
              "      <script>\n",
              "        const buttonEl =\n",
              "          document.querySelector('#df-90aca29e-9ab4-456a-8268-6264a5b76bf6 button.colab-df-convert');\n",
              "        buttonEl.style.display =\n",
              "          google.colab.kernel.accessAllowed ? 'block' : 'none';\n",
              "\n",
              "        async function convertToInteractive(key) {\n",
              "          const element = document.querySelector('#df-90aca29e-9ab4-456a-8268-6264a5b76bf6');\n",
              "          const dataTable =\n",
              "            await google.colab.kernel.invokeFunction('convertToInteractive',\n",
              "                                                     [key], {});\n",
              "          if (!dataTable) return;\n",
              "\n",
              "          const docLinkHtml = 'Like what you see? Visit the ' +\n",
              "            '<a target=\"_blank\" href=https://colab.research.google.com/notebooks/data_table.ipynb>data table notebook</a>'\n",
              "            + ' to learn more about interactive tables.';\n",
              "          element.innerHTML = '';\n",
              "          dataTable['output_type'] = 'display_data';\n",
              "          await google.colab.output.renderOutput(dataTable, element);\n",
              "          const docLink = document.createElement('div');\n",
              "          docLink.innerHTML = docLinkHtml;\n",
              "          element.appendChild(docLink);\n",
              "        }\n",
              "      </script>\n",
              "    </div>\n",
              "  </div>\n",
              "  "
            ]
          },
          "metadata": {},
          "execution_count": 11
        }
      ]
    },
    {
      "cell_type": "markdown",
      "source": [
        "Llamar a la libreria para realizar los test unitarios e integrales"
      ],
      "metadata": {
        "id": "qDUALl4OqAKO"
      }
    },
    {
      "cell_type": "code",
      "source": [
        "from great_expectations.dataset import SparkDFDataset"
      ],
      "metadata": {
        "id": "KQkNShVYqHAh"
      },
      "execution_count": null,
      "outputs": []
    },
    {
      "cell_type": "markdown",
      "source": [
        "Crear un dataset para test en esta primera etapa del dataset en bruto"
      ],
      "metadata": {
        "id": "7Pq4-PmJqNHa"
      }
    },
    {
      "cell_type": "code",
      "source": [
        "raw_test_df = SparkDFDataset(raw_df)"
      ],
      "metadata": {
        "id": "s3VCTAQ9qU9v",
        "colab": {
          "base_uri": "https://localhost:8080/"
        },
        "outputId": "d6944f37-eeb7-4462-ac89-9d762182977f"
      },
      "execution_count": null,
      "outputs": [
        {
          "output_type": "stream",
          "name": "stderr",
          "text": [
            "WARNING:py.warnings:/usr/local/lib/python3.10/dist-packages/ipykernel/ipkernel.py:283: DeprecationWarning: `should_run_async` will not call `transform_cell` automatically in the future. Please pass the result to `transformed_cell` argument and any exception that happen during thetransform in `preprocessing_exc_tuple` in IPython 7.17 and above.\n",
            "  and should_run_async(code)\n",
            "\n"
          ]
        }
      ]
    },
    {
      "cell_type": "code",
      "source": [
        "type(raw_test_df)"
      ],
      "metadata": {
        "colab": {
          "base_uri": "https://localhost:8080/"
        },
        "id": "pH84LqbIqLMN",
        "outputId": "8bc8346a-5ba0-4b81-ed8d-3a5361c0cf47"
      },
      "execution_count": null,
      "outputs": [
        {
          "output_type": "execute_result",
          "data": {
            "text/plain": [
              "great_expectations.dataset.sparkdf_dataset.SparkDFDataset"
            ]
          },
          "metadata": {},
          "execution_count": 14
        }
      ]
    },
    {
      "cell_type": "markdown",
      "source": [
        "Columnas que nos interesan para evaluar"
      ],
      "metadata": {
        "id": "8b0pi4_mqi00"
      }
    },
    {
      "cell_type": "code",
      "source": [
        "MANDATORY_COLUMNS = [\n",
        "  \"UUID\",\n",
        "  \"DEPARTAMENTO\",\n",
        "  \"PROVINCIA\",\n",
        "  \"DISTRITO\",\n",
        "  \"METODODX\",\n",
        "  \"EDAD\",\n",
        "  \"SEXO\",\n",
        "  \"FECHA_RESULTADO\"\n",
        "]"
      ],
      "metadata": {
        "id": "sVjawPUCqmZX"
      },
      "execution_count": null,
      "outputs": []
    },
    {
      "cell_type": "markdown",
      "source": [
        "verificar que existan todas las columnas"
      ],
      "metadata": {
        "id": "dAw9VGXBrALS"
      }
    },
    {
      "cell_type": "code",
      "source": [
        "for column in MANDATORY_COLUMNS:\n",
        "    try:\n",
        "        assert raw_test_df.expect_column_to_exist(column).success, f\"Uh oh! Mandatory column {column} does not exist: FAILED\"\n",
        "        print(f\"Column {column} exists : PASSED\")\n",
        "    except AssertionError as e:\n",
        "        print(e)"
      ],
      "metadata": {
        "colab": {
          "base_uri": "https://localhost:8080/"
        },
        "id": "H0MLVdvprE3y",
        "outputId": "8c0dd51a-6f8b-49fa-d9b5-8997343d8212"
      },
      "execution_count": null,
      "outputs": [
        {
          "output_type": "stream",
          "name": "stdout",
          "text": [
            "Column UUID exists : PASSED\n",
            "Column DEPARTAMENTO exists : PASSED\n",
            "Column PROVINCIA exists : PASSED\n",
            "Column DISTRITO exists : PASSED\n",
            "Column METODODX exists : PASSED\n",
            "Column EDAD exists : PASSED\n",
            "Column SEXO exists : PASSED\n",
            "Column FECHA_RESULTADO exists : PASSED\n"
          ]
        }
      ]
    },
    {
      "cell_type": "markdown",
      "source": [
        "Verificar que no haya valores nulos"
      ],
      "metadata": {
        "id": "a3KuVu1RtPdh"
      }
    },
    {
      "cell_type": "code",
      "source": [
        "for column in MANDATORY_COLUMNS:\n",
        "    try:\n",
        "        test_result = raw_test_df.expect_column_values_to_not_be_null(column)\n",
        "        assert test_result.success, \\\n",
        "            f\"Uh oh! {test_result.result['unexpected_count']} of {test_result.result['element_count']} items in column {column} are null: FAILED\"\n",
        "        print(f\"All items in column {column} are not null: PASSED\")\n",
        "    except AssertionError as e:\n",
        "        print(e)\n",
        "    except AnalysisException as e:\n",
        "        print(e)"
      ],
      "metadata": {
        "colab": {
          "base_uri": "https://localhost:8080/"
        },
        "id": "B8YaL5oxtVX3",
        "outputId": "24b7f157-bc17-4602-e058-e9e189997a02"
      },
      "execution_count": null,
      "outputs": [
        {
          "output_type": "stream",
          "name": "stdout",
          "text": [
            "All items in column UUID are not null: PASSED\n",
            "All items in column DEPARTAMENTO are not null: PASSED\n",
            "All items in column PROVINCIA are not null: PASSED\n",
            "All items in column DISTRITO are not null: PASSED\n",
            "All items in column METODODX are not null: PASSED\n",
            "Uh oh! 20 of 422183 items in column EDAD are null: FAILED\n",
            "All items in column SEXO are not null: PASSED\n",
            "All items in column FECHA_RESULTADO are not null: PASSED\n"
          ]
        }
      ]
    },
    {
      "cell_type": "markdown",
      "source": [
        "Verificar que las fechas tengan el formato correcto"
      ],
      "metadata": {
        "id": "0XHJ488Ltsbs"
      }
    },
    {
      "cell_type": "code",
      "source": [
        "test_result =  raw_test_df.expect_column_values_to_match_strftime_format('FECHA_RESULTADO','%Y-%m-%d %H:%M:%S')\n",
        "f\"\"\"{round(test_result.result['unexpected_percent'], 2)}% is not a valid date time format\"\"\""
      ],
      "metadata": {
        "colab": {
          "base_uri": "https://localhost:8080/",
          "height": 35
        },
        "id": "K9VcH_L0tyGH",
        "outputId": "7e6e0d80-1fe4-4271-a90e-157ffa0a214a"
      },
      "execution_count": null,
      "outputs": [
        {
          "output_type": "execute_result",
          "data": {
            "text/plain": [
              "'100.0% is not a valid date time format'"
            ],
            "application/vnd.google.colaboratory.intrinsic+json": {
              "type": "string"
            }
          },
          "metadata": {},
          "execution_count": 18
        }
      ]
    },
    {
      "cell_type": "markdown",
      "source": [
        "Verificar si los registros son unicos que no haya duplicados"
      ],
      "metadata": {
        "id": "gBgdRhanuGGD"
      }
    },
    {
      "cell_type": "code",
      "source": [
        "test_result = raw_test_df.expect_column_values_to_be_unique(\"UUID\")\n",
        "failed_msg = \" \".join([f\"\"\"Uh oh!\"\"\",\n",
        "              f\"\"\"{test_result.result['unexpected_count']} of {test_result.result['element_count']} items\"\"\",\n",
        "              f\"\"\"or {round(test_result.result['unexpected_percent'],2)}% are not unique: FAILED\"\"\"])\n",
        "print(f\"\"\"{'Column UUID is unique: PASSED' if test_result.success else failed_msg}\"\"\")"
      ],
      "metadata": {
        "colab": {
          "base_uri": "https://localhost:8080/"
        },
        "id": "Sga5bU0MubgG",
        "outputId": "5df2cf6c-3536-4b24-ac1c-5fbfbb5ed563"
      },
      "execution_count": null,
      "outputs": [
        {
          "output_type": "stream",
          "name": "stdout",
          "text": [
            "Column UUID is unique: PASSED\n"
          ]
        }
      ]
    },
    {
      "cell_type": "markdown",
      "source": [
        "Filtrar los datos, solo utilizaremos los de el departamento del Cusco:"
      ],
      "metadata": {
        "id": "22vEhSzkur4r"
      }
    },
    {
      "cell_type": "code",
      "source": [
        "PRINC_DEPARTAMENTOS = ['CUSCO']"
      ],
      "metadata": {
        "id": "tg7SYb-3u2zg"
      },
      "execution_count": null,
      "outputs": []
    },
    {
      "cell_type": "code",
      "source": [
        "SIN_PROVINCIA_CUSCO=[\n",
        "    'EN INVESTIGACIÓN'\n",
        "]"
      ],
      "metadata": {
        "id": "MLgOoJbIhxN5"
      },
      "execution_count": null,
      "outputs": []
    },
    {
      "cell_type": "code",
      "source": [
        "#filtered_df.toPandas()['PROVINCIA'].unique().tolist()"
      ],
      "metadata": {
        "colab": {
          "base_uri": "https://localhost:8080/"
        },
        "id": "UNihtoqkoaLy",
        "outputId": "cfd1f2fa-5c2b-409b-bf25-d393da9e16a1"
      },
      "execution_count": null,
      "outputs": [
        {
          "output_type": "execute_result",
          "data": {
            "text/plain": [
              "['LA CONVENCION',\n",
              " 'CUSCO',\n",
              " 'ACOMAYO',\n",
              " 'QUISPICANCHI',\n",
              " 'URUBAMBA',\n",
              " 'ANTA',\n",
              " 'CALCA',\n",
              " 'PARURO',\n",
              " 'CANCHIS',\n",
              " 'CHUMBIVILCAS',\n",
              " 'PAUCARTAMBO',\n",
              " 'EN INVESTIGACIÓN',\n",
              " 'ESPINAR',\n",
              " 'CANAS']"
            ]
          },
          "metadata": {},
          "execution_count": 42
        }
      ]
    },
    {
      "cell_type": "code",
      "source": [
        "filtered_df = spark.sql(f\"\"\"\n",
        "    SELECT *\n",
        "    FROM Casos\n",
        "          WHERE DEPARTAMENTO IN ('{\"','\".join(PRINC_DEPARTAMENTOS)}')\n",
        "          AND PROVINCIA NOT IN ('{\"','\".join(SIN_PROVINCIA_CUSCO)}')\n",
        "    \"\"\")"
      ],
      "metadata": {
        "id": "bFBvZwFVYbl1"
      },
      "execution_count": null,
      "outputs": []
    },
    {
      "cell_type": "markdown",
      "source": [
        "Crear una vista"
      ],
      "metadata": {
        "id": "Kt2feIg5ZY6s"
      }
    },
    {
      "cell_type": "code",
      "source": [
        "filtered_df.createOrReplaceTempView(\"FILTERED_CASOS\")"
      ],
      "metadata": {
        "id": "gSA2GGHmZMn1"
      },
      "execution_count": null,
      "outputs": []
    },
    {
      "cell_type": "markdown",
      "source": [
        "Utilizar el dataset filtrado para test unitario con SparkDFDataset"
      ],
      "metadata": {
        "id": "kc3kB4o7ZcZm"
      }
    },
    {
      "cell_type": "code",
      "source": [
        "filtered_test_df = SparkDFDataset(filtered_df)"
      ],
      "metadata": {
        "id": "mwH614TJZXIK"
      },
      "execution_count": null,
      "outputs": []
    },
    {
      "cell_type": "markdown",
      "source": [
        "Verificar que solo existe datos de Cusco"
      ],
      "metadata": {
        "id": "hzUnca_QZsXp"
      }
    },
    {
      "cell_type": "code",
      "source": [
        "test_result = filtered_test_df.expect_column_values_to_be_in_set(\"DEPARTAMENTO\", PRINC_DEPARTAMENTOS)\n",
        "print(f\"\"\"DEPARTAMENTO are within scope: {'PASSED' if test_result.success else 'FAILED'}\"\"\")"
      ],
      "metadata": {
        "colab": {
          "base_uri": "https://localhost:8080/"
        },
        "id": "Ll0JhNraZrhE",
        "outputId": "6f1b1dae-2afc-452f-e8c8-0aaf30c16f8d"
      },
      "execution_count": null,
      "outputs": [
        {
          "output_type": "stream",
          "name": "stdout",
          "text": [
            "DEPARTAMENTO are within scope: PASSED\n"
          ]
        }
      ]
    },
    {
      "cell_type": "markdown",
      "source": [
        "Verificar que las columnas no sean nulas"
      ],
      "metadata": {
        "id": "Qfsjmq5geMs9"
      }
    },
    {
      "cell_type": "code",
      "source": [
        "for column in MANDATORY_COLUMNS:\n",
        "    try:\n",
        "        test_result = filtered_test_df.expect_column_values_to_not_be_null(column)\n",
        "        assert test_result.success, f\"Uh oh! {test_result.result['unexpected_count']} of {test_result.result['element_count']} items in column {column} are null: FAILED\"\n",
        "        print(f\"All items in column {column} are not null: PASSED\")\n",
        "    except AssertionError as e:\n",
        "        print(e)"
      ],
      "metadata": {
        "colab": {
          "base_uri": "https://localhost:8080/"
        },
        "id": "rVBIRFvueQ7l",
        "outputId": "f04d5c27-7fc1-45e0-ca4d-9f181f6fd385"
      },
      "execution_count": null,
      "outputs": [
        {
          "output_type": "stream",
          "name": "stdout",
          "text": [
            "All items in column UUID are not null: PASSED\n",
            "All items in column DEPARTAMENTO are not null: PASSED\n",
            "All items in column PROVINCIA are not null: PASSED\n",
            "All items in column DISTRITO are not null: PASSED\n",
            "All items in column METODODX are not null: PASSED\n",
            "All items in column EDAD are not null: PASSED\n",
            "All items in column SEXO are not null: PASSED\n",
            "All items in column FECHA_RESULTADO are not null: PASSED\n"
          ]
        }
      ]
    },
    {
      "cell_type": "code",
      "source": [],
      "metadata": {
        "id": "1MyxO475iBiS"
      },
      "execution_count": null,
      "outputs": []
    },
    {
      "cell_type": "code",
      "source": [
        "filtered_df.toPandas()"
      ],
      "metadata": {
        "colab": {
          "base_uri": "https://localhost:8080/",
          "height": 424
        },
        "id": "USkhlw87iE6-",
        "outputId": "ffe9cd15-5ef6-4070-9880-1b69fed55854"
      },
      "execution_count": null,
      "outputs": [
        {
          "output_type": "execute_result",
          "data": {
            "text/plain": [
              "                                  UUID DEPARTAMENTO      PROVINCIA   DISTRITO  \\\n",
              "0     f8d7493fa611740211905a5e55e2e0ce        CUSCO  LA CONVENCION    PICHARI   \n",
              "1     596f6db17046c21e684f44591e32a3f3        CUSCO          CUSCO      CUSCO   \n",
              "2     eec8272c8da50e96d3075291c841c39d        CUSCO          CUSCO      CUSCO   \n",
              "3     9b51103df4b4192cba81ec795e26227d        CUSCO          CUSCO   SANTIAGO   \n",
              "4     4e123552509bc56b9629b7d0fa6decdd        CUSCO          CUSCO      CUSCO   \n",
              "...                                ...          ...            ...        ...   \n",
              "4776  1642217bf59a387d51a4be3f85a2614c        CUSCO          CUSCO      CUSCO   \n",
              "4777  3b55c285ca2c1a7d939cc729bfbb2956        CUSCO  LA CONVENCION  SANTA ANA   \n",
              "4778  879bab8366399afe3ae820401b624b4c        CUSCO          CUSCO    WANCHAQ   \n",
              "4779  407ff44eb33e346cf412c049ac1e9da4        CUSCO  LA CONVENCION  MEGANTONI   \n",
              "4780  4ea962e0881f30c7656487d0ce9156c9        CUSCO          CUSCO    WANCHAQ   \n",
              "\n",
              "     METODODX EDAD       SEXO FECHA_RESULTADO  \n",
              "0         PCR   24  MASCULINO        20200716  \n",
              "1         PCR   49  MASCULINO        20200705  \n",
              "2         PCR   65   FEMENINO        20200705  \n",
              "3         PCR   54  MASCULINO        20200705  \n",
              "4         PCR   33  MASCULINO        20200705  \n",
              "...       ...  ...        ...             ...  \n",
              "4776       PR   44   FEMENINO        20200729  \n",
              "4777       PR   48   FEMENINO        20200717  \n",
              "4778       PR   36   FEMENINO        20200724  \n",
              "4779       PR   21   FEMENINO        20200725  \n",
              "4780       PR   26   FEMENINO        20200727  \n",
              "\n",
              "[4781 rows x 8 columns]"
            ],
            "text/html": [
              "\n",
              "  <div id=\"df-4e5d27c1-fac8-485e-a667-e1a34b18aad1\">\n",
              "    <div class=\"colab-df-container\">\n",
              "      <div>\n",
              "<style scoped>\n",
              "    .dataframe tbody tr th:only-of-type {\n",
              "        vertical-align: middle;\n",
              "    }\n",
              "\n",
              "    .dataframe tbody tr th {\n",
              "        vertical-align: top;\n",
              "    }\n",
              "\n",
              "    .dataframe thead th {\n",
              "        text-align: right;\n",
              "    }\n",
              "</style>\n",
              "<table border=\"1\" class=\"dataframe\">\n",
              "  <thead>\n",
              "    <tr style=\"text-align: right;\">\n",
              "      <th></th>\n",
              "      <th>UUID</th>\n",
              "      <th>DEPARTAMENTO</th>\n",
              "      <th>PROVINCIA</th>\n",
              "      <th>DISTRITO</th>\n",
              "      <th>METODODX</th>\n",
              "      <th>EDAD</th>\n",
              "      <th>SEXO</th>\n",
              "      <th>FECHA_RESULTADO</th>\n",
              "    </tr>\n",
              "  </thead>\n",
              "  <tbody>\n",
              "    <tr>\n",
              "      <th>0</th>\n",
              "      <td>f8d7493fa611740211905a5e55e2e0ce</td>\n",
              "      <td>CUSCO</td>\n",
              "      <td>LA CONVENCION</td>\n",
              "      <td>PICHARI</td>\n",
              "      <td>PCR</td>\n",
              "      <td>24</td>\n",
              "      <td>MASCULINO</td>\n",
              "      <td>20200716</td>\n",
              "    </tr>\n",
              "    <tr>\n",
              "      <th>1</th>\n",
              "      <td>596f6db17046c21e684f44591e32a3f3</td>\n",
              "      <td>CUSCO</td>\n",
              "      <td>CUSCO</td>\n",
              "      <td>CUSCO</td>\n",
              "      <td>PCR</td>\n",
              "      <td>49</td>\n",
              "      <td>MASCULINO</td>\n",
              "      <td>20200705</td>\n",
              "    </tr>\n",
              "    <tr>\n",
              "      <th>2</th>\n",
              "      <td>eec8272c8da50e96d3075291c841c39d</td>\n",
              "      <td>CUSCO</td>\n",
              "      <td>CUSCO</td>\n",
              "      <td>CUSCO</td>\n",
              "      <td>PCR</td>\n",
              "      <td>65</td>\n",
              "      <td>FEMENINO</td>\n",
              "      <td>20200705</td>\n",
              "    </tr>\n",
              "    <tr>\n",
              "      <th>3</th>\n",
              "      <td>9b51103df4b4192cba81ec795e26227d</td>\n",
              "      <td>CUSCO</td>\n",
              "      <td>CUSCO</td>\n",
              "      <td>SANTIAGO</td>\n",
              "      <td>PCR</td>\n",
              "      <td>54</td>\n",
              "      <td>MASCULINO</td>\n",
              "      <td>20200705</td>\n",
              "    </tr>\n",
              "    <tr>\n",
              "      <th>4</th>\n",
              "      <td>4e123552509bc56b9629b7d0fa6decdd</td>\n",
              "      <td>CUSCO</td>\n",
              "      <td>CUSCO</td>\n",
              "      <td>CUSCO</td>\n",
              "      <td>PCR</td>\n",
              "      <td>33</td>\n",
              "      <td>MASCULINO</td>\n",
              "      <td>20200705</td>\n",
              "    </tr>\n",
              "    <tr>\n",
              "      <th>...</th>\n",
              "      <td>...</td>\n",
              "      <td>...</td>\n",
              "      <td>...</td>\n",
              "      <td>...</td>\n",
              "      <td>...</td>\n",
              "      <td>...</td>\n",
              "      <td>...</td>\n",
              "      <td>...</td>\n",
              "    </tr>\n",
              "    <tr>\n",
              "      <th>4776</th>\n",
              "      <td>1642217bf59a387d51a4be3f85a2614c</td>\n",
              "      <td>CUSCO</td>\n",
              "      <td>CUSCO</td>\n",
              "      <td>CUSCO</td>\n",
              "      <td>PR</td>\n",
              "      <td>44</td>\n",
              "      <td>FEMENINO</td>\n",
              "      <td>20200729</td>\n",
              "    </tr>\n",
              "    <tr>\n",
              "      <th>4777</th>\n",
              "      <td>3b55c285ca2c1a7d939cc729bfbb2956</td>\n",
              "      <td>CUSCO</td>\n",
              "      <td>LA CONVENCION</td>\n",
              "      <td>SANTA ANA</td>\n",
              "      <td>PR</td>\n",
              "      <td>48</td>\n",
              "      <td>FEMENINO</td>\n",
              "      <td>20200717</td>\n",
              "    </tr>\n",
              "    <tr>\n",
              "      <th>4778</th>\n",
              "      <td>879bab8366399afe3ae820401b624b4c</td>\n",
              "      <td>CUSCO</td>\n",
              "      <td>CUSCO</td>\n",
              "      <td>WANCHAQ</td>\n",
              "      <td>PR</td>\n",
              "      <td>36</td>\n",
              "      <td>FEMENINO</td>\n",
              "      <td>20200724</td>\n",
              "    </tr>\n",
              "    <tr>\n",
              "      <th>4779</th>\n",
              "      <td>407ff44eb33e346cf412c049ac1e9da4</td>\n",
              "      <td>CUSCO</td>\n",
              "      <td>LA CONVENCION</td>\n",
              "      <td>MEGANTONI</td>\n",
              "      <td>PR</td>\n",
              "      <td>21</td>\n",
              "      <td>FEMENINO</td>\n",
              "      <td>20200725</td>\n",
              "    </tr>\n",
              "    <tr>\n",
              "      <th>4780</th>\n",
              "      <td>4ea962e0881f30c7656487d0ce9156c9</td>\n",
              "      <td>CUSCO</td>\n",
              "      <td>CUSCO</td>\n",
              "      <td>WANCHAQ</td>\n",
              "      <td>PR</td>\n",
              "      <td>26</td>\n",
              "      <td>FEMENINO</td>\n",
              "      <td>20200727</td>\n",
              "    </tr>\n",
              "  </tbody>\n",
              "</table>\n",
              "<p>4781 rows × 8 columns</p>\n",
              "</div>\n",
              "      <button class=\"colab-df-convert\" onclick=\"convertToInteractive('df-4e5d27c1-fac8-485e-a667-e1a34b18aad1')\"\n",
              "              title=\"Convert this dataframe to an interactive table.\"\n",
              "              style=\"display:none;\">\n",
              "        \n",
              "  <svg xmlns=\"http://www.w3.org/2000/svg\" height=\"24px\"viewBox=\"0 0 24 24\"\n",
              "       width=\"24px\">\n",
              "    <path d=\"M0 0h24v24H0V0z\" fill=\"none\"/>\n",
              "    <path d=\"M18.56 5.44l.94 2.06.94-2.06 2.06-.94-2.06-.94-.94-2.06-.94 2.06-2.06.94zm-11 1L8.5 8.5l.94-2.06 2.06-.94-2.06-.94L8.5 2.5l-.94 2.06-2.06.94zm10 10l.94 2.06.94-2.06 2.06-.94-2.06-.94-.94-2.06-.94 2.06-2.06.94z\"/><path d=\"M17.41 7.96l-1.37-1.37c-.4-.4-.92-.59-1.43-.59-.52 0-1.04.2-1.43.59L10.3 9.45l-7.72 7.72c-.78.78-.78 2.05 0 2.83L4 21.41c.39.39.9.59 1.41.59.51 0 1.02-.2 1.41-.59l7.78-7.78 2.81-2.81c.8-.78.8-2.07 0-2.86zM5.41 20L4 18.59l7.72-7.72 1.47 1.35L5.41 20z\"/>\n",
              "  </svg>\n",
              "      </button>\n",
              "      \n",
              "  <style>\n",
              "    .colab-df-container {\n",
              "      display:flex;\n",
              "      flex-wrap:wrap;\n",
              "      gap: 12px;\n",
              "    }\n",
              "\n",
              "    .colab-df-convert {\n",
              "      background-color: #E8F0FE;\n",
              "      border: none;\n",
              "      border-radius: 50%;\n",
              "      cursor: pointer;\n",
              "      display: none;\n",
              "      fill: #1967D2;\n",
              "      height: 32px;\n",
              "      padding: 0 0 0 0;\n",
              "      width: 32px;\n",
              "    }\n",
              "\n",
              "    .colab-df-convert:hover {\n",
              "      background-color: #E2EBFA;\n",
              "      box-shadow: 0px 1px 2px rgba(60, 64, 67, 0.3), 0px 1px 3px 1px rgba(60, 64, 67, 0.15);\n",
              "      fill: #174EA6;\n",
              "    }\n",
              "\n",
              "    [theme=dark] .colab-df-convert {\n",
              "      background-color: #3B4455;\n",
              "      fill: #D2E3FC;\n",
              "    }\n",
              "\n",
              "    [theme=dark] .colab-df-convert:hover {\n",
              "      background-color: #434B5C;\n",
              "      box-shadow: 0px 1px 3px 1px rgba(0, 0, 0, 0.15);\n",
              "      filter: drop-shadow(0px 1px 2px rgba(0, 0, 0, 0.3));\n",
              "      fill: #FFFFFF;\n",
              "    }\n",
              "  </style>\n",
              "\n",
              "      <script>\n",
              "        const buttonEl =\n",
              "          document.querySelector('#df-4e5d27c1-fac8-485e-a667-e1a34b18aad1 button.colab-df-convert');\n",
              "        buttonEl.style.display =\n",
              "          google.colab.kernel.accessAllowed ? 'block' : 'none';\n",
              "\n",
              "        async function convertToInteractive(key) {\n",
              "          const element = document.querySelector('#df-4e5d27c1-fac8-485e-a667-e1a34b18aad1');\n",
              "          const dataTable =\n",
              "            await google.colab.kernel.invokeFunction('convertToInteractive',\n",
              "                                                     [key], {});\n",
              "          if (!dataTable) return;\n",
              "\n",
              "          const docLinkHtml = 'Like what you see? Visit the ' +\n",
              "            '<a target=\"_blank\" href=https://colab.research.google.com/notebooks/data_table.ipynb>data table notebook</a>'\n",
              "            + ' to learn more about interactive tables.';\n",
              "          element.innerHTML = '';\n",
              "          dataTable['output_type'] = 'display_data';\n",
              "          await google.colab.output.renderOutput(dataTable, element);\n",
              "          const docLink = document.createElement('div');\n",
              "          docLink.innerHTML = docLinkHtml;\n",
              "          element.appendChild(docLink);\n",
              "        }\n",
              "      </script>\n",
              "    </div>\n",
              "  </div>\n",
              "  "
            ]
          },
          "metadata": {},
          "execution_count": 50
        }
      ]
    },
    {
      "cell_type": "markdown",
      "source": [
        "Estandarizar las provincias del Cusco"
      ],
      "metadata": {
        "id": "lklSMOm-hs0M"
      }
    },
    {
      "cell_type": "code",
      "source": [
        "PROVINCIAS_CUSCO = ['LA CONVENCION',\n",
        " 'CUSCO',\n",
        " 'ACOMAYO',\n",
        " 'QUISPICANCHI',\n",
        " 'URUBAMBA',\n",
        " 'ANTA',\n",
        " 'CALCA',\n",
        " 'PARURO',\n",
        " 'CANCHIS',\n",
        " 'CHUMBIVILCAS',\n",
        " 'PAUCARTAMBO',\n",
        " 'ESPINAR',\n",
        " 'CANAS']"
      ],
      "metadata": {
        "id": "3Y3CRt78sXxE"
      },
      "execution_count": null,
      "outputs": []
    },
    {
      "cell_type": "code",
      "source": [
        "standardised_df = spark.sql(f\"\"\"\n",
        "    SELECT t.*,\n",
        "         CASE\n",
        "             WHEN PROVINCIA IN ('LA CONVENCION','LA CONVENCIÓN') THEN 'LA CONVENCION'\n",
        "              WHEN PROVINCIA IN ('CUSCO','CUZCO') THEN 'CUSCO'\n",
        "              WHEN PROVINCIA IN ('URUBAMBA') THEN 'URUBAMBA'\n",
        "              WHEN PROVINCIA IN ('QUISPICANCHI') THEN 'QUISPICANCHI'\n",
        "              WHEN PROVINCIA IN ('PAUCARTAMBO') THEN 'PAUCARTAMBO'\n",
        "              WHEN PROVINCIA IN ('PARURO') THEN 'PARURO'\n",
        "              WHEN PROVINCIA IN ('ESPINAR') THEN 'ESPINAR'\n",
        "              WHEN PROVINCIA IN ('CANCHIS') THEN 'CANCHIS'\n",
        "              WHEN PROVINCIA IN ('CANAS') THEN 'CANAS'\n",
        "              WHEN PROVINCIA IN ('CALCA') THEN 'CALCA'\n",
        "              WHEN PROVINCIA IN ('ANTA') THEN 'ANTA'\n",
        "              WHEN PROVINCIA IN ('ACOMAYO') THEN 'ACOMAYO'\n",
        "             END PROVINCIAS\n",
        "    FROM FILTERED_CASOS t\n",
        "\"\"\")"
      ],
      "metadata": {
        "id": "_ZhiUVr_k6PT"
      },
      "execution_count": null,
      "outputs": []
    },
    {
      "cell_type": "markdown",
      "source": [
        "Crear vista de los datos estandarizados"
      ],
      "metadata": {
        "id": "JasJxKioml5P"
      }
    },
    {
      "cell_type": "code",
      "source": [
        "standardised_df.createOrReplaceTempView(\"STANDARDISED_CASOS\")"
      ],
      "metadata": {
        "id": "NiQm7YE7mqBi"
      },
      "execution_count": null,
      "outputs": []
    },
    {
      "cell_type": "code",
      "source": [
        "standardised_df.toPandas()"
      ],
      "metadata": {
        "colab": {
          "base_uri": "https://localhost:8080/",
          "height": 424
        },
        "id": "5OScoCRwmvvM",
        "outputId": "22077699-dc76-4ace-da67-fc62f27c829f"
      },
      "execution_count": null,
      "outputs": [
        {
          "output_type": "execute_result",
          "data": {
            "text/plain": [
              "                                  UUID DEPARTAMENTO      PROVINCIA   DISTRITO  \\\n",
              "0     f8d7493fa611740211905a5e55e2e0ce        CUSCO  LA CONVENCION    PICHARI   \n",
              "1     596f6db17046c21e684f44591e32a3f3        CUSCO          CUSCO      CUSCO   \n",
              "2     eec8272c8da50e96d3075291c841c39d        CUSCO          CUSCO      CUSCO   \n",
              "3     9b51103df4b4192cba81ec795e26227d        CUSCO          CUSCO   SANTIAGO   \n",
              "4     4e123552509bc56b9629b7d0fa6decdd        CUSCO          CUSCO      CUSCO   \n",
              "...                                ...          ...            ...        ...   \n",
              "4776  1642217bf59a387d51a4be3f85a2614c        CUSCO          CUSCO      CUSCO   \n",
              "4777  3b55c285ca2c1a7d939cc729bfbb2956        CUSCO  LA CONVENCION  SANTA ANA   \n",
              "4778  879bab8366399afe3ae820401b624b4c        CUSCO          CUSCO    WANCHAQ   \n",
              "4779  407ff44eb33e346cf412c049ac1e9da4        CUSCO  LA CONVENCION  MEGANTONI   \n",
              "4780  4ea962e0881f30c7656487d0ce9156c9        CUSCO          CUSCO    WANCHAQ   \n",
              "\n",
              "     METODODX EDAD       SEXO FECHA_RESULTADO     PROVINCIAS  \n",
              "0         PCR   24  MASCULINO        20200716  LA CONVENCION  \n",
              "1         PCR   49  MASCULINO        20200705          CUSCO  \n",
              "2         PCR   65   FEMENINO        20200705          CUSCO  \n",
              "3         PCR   54  MASCULINO        20200705          CUSCO  \n",
              "4         PCR   33  MASCULINO        20200705          CUSCO  \n",
              "...       ...  ...        ...             ...            ...  \n",
              "4776       PR   44   FEMENINO        20200729          CUSCO  \n",
              "4777       PR   48   FEMENINO        20200717  LA CONVENCION  \n",
              "4778       PR   36   FEMENINO        20200724          CUSCO  \n",
              "4779       PR   21   FEMENINO        20200725  LA CONVENCION  \n",
              "4780       PR   26   FEMENINO        20200727          CUSCO  \n",
              "\n",
              "[4781 rows x 9 columns]"
            ],
            "text/html": [
              "\n",
              "  <div id=\"df-d41a291e-f6cd-4469-a06b-d0e8129706bc\">\n",
              "    <div class=\"colab-df-container\">\n",
              "      <div>\n",
              "<style scoped>\n",
              "    .dataframe tbody tr th:only-of-type {\n",
              "        vertical-align: middle;\n",
              "    }\n",
              "\n",
              "    .dataframe tbody tr th {\n",
              "        vertical-align: top;\n",
              "    }\n",
              "\n",
              "    .dataframe thead th {\n",
              "        text-align: right;\n",
              "    }\n",
              "</style>\n",
              "<table border=\"1\" class=\"dataframe\">\n",
              "  <thead>\n",
              "    <tr style=\"text-align: right;\">\n",
              "      <th></th>\n",
              "      <th>UUID</th>\n",
              "      <th>DEPARTAMENTO</th>\n",
              "      <th>PROVINCIA</th>\n",
              "      <th>DISTRITO</th>\n",
              "      <th>METODODX</th>\n",
              "      <th>EDAD</th>\n",
              "      <th>SEXO</th>\n",
              "      <th>FECHA_RESULTADO</th>\n",
              "      <th>PROVINCIAS</th>\n",
              "    </tr>\n",
              "  </thead>\n",
              "  <tbody>\n",
              "    <tr>\n",
              "      <th>0</th>\n",
              "      <td>f8d7493fa611740211905a5e55e2e0ce</td>\n",
              "      <td>CUSCO</td>\n",
              "      <td>LA CONVENCION</td>\n",
              "      <td>PICHARI</td>\n",
              "      <td>PCR</td>\n",
              "      <td>24</td>\n",
              "      <td>MASCULINO</td>\n",
              "      <td>20200716</td>\n",
              "      <td>LA CONVENCION</td>\n",
              "    </tr>\n",
              "    <tr>\n",
              "      <th>1</th>\n",
              "      <td>596f6db17046c21e684f44591e32a3f3</td>\n",
              "      <td>CUSCO</td>\n",
              "      <td>CUSCO</td>\n",
              "      <td>CUSCO</td>\n",
              "      <td>PCR</td>\n",
              "      <td>49</td>\n",
              "      <td>MASCULINO</td>\n",
              "      <td>20200705</td>\n",
              "      <td>CUSCO</td>\n",
              "    </tr>\n",
              "    <tr>\n",
              "      <th>2</th>\n",
              "      <td>eec8272c8da50e96d3075291c841c39d</td>\n",
              "      <td>CUSCO</td>\n",
              "      <td>CUSCO</td>\n",
              "      <td>CUSCO</td>\n",
              "      <td>PCR</td>\n",
              "      <td>65</td>\n",
              "      <td>FEMENINO</td>\n",
              "      <td>20200705</td>\n",
              "      <td>CUSCO</td>\n",
              "    </tr>\n",
              "    <tr>\n",
              "      <th>3</th>\n",
              "      <td>9b51103df4b4192cba81ec795e26227d</td>\n",
              "      <td>CUSCO</td>\n",
              "      <td>CUSCO</td>\n",
              "      <td>SANTIAGO</td>\n",
              "      <td>PCR</td>\n",
              "      <td>54</td>\n",
              "      <td>MASCULINO</td>\n",
              "      <td>20200705</td>\n",
              "      <td>CUSCO</td>\n",
              "    </tr>\n",
              "    <tr>\n",
              "      <th>4</th>\n",
              "      <td>4e123552509bc56b9629b7d0fa6decdd</td>\n",
              "      <td>CUSCO</td>\n",
              "      <td>CUSCO</td>\n",
              "      <td>CUSCO</td>\n",
              "      <td>PCR</td>\n",
              "      <td>33</td>\n",
              "      <td>MASCULINO</td>\n",
              "      <td>20200705</td>\n",
              "      <td>CUSCO</td>\n",
              "    </tr>\n",
              "    <tr>\n",
              "      <th>...</th>\n",
              "      <td>...</td>\n",
              "      <td>...</td>\n",
              "      <td>...</td>\n",
              "      <td>...</td>\n",
              "      <td>...</td>\n",
              "      <td>...</td>\n",
              "      <td>...</td>\n",
              "      <td>...</td>\n",
              "      <td>...</td>\n",
              "    </tr>\n",
              "    <tr>\n",
              "      <th>4776</th>\n",
              "      <td>1642217bf59a387d51a4be3f85a2614c</td>\n",
              "      <td>CUSCO</td>\n",
              "      <td>CUSCO</td>\n",
              "      <td>CUSCO</td>\n",
              "      <td>PR</td>\n",
              "      <td>44</td>\n",
              "      <td>FEMENINO</td>\n",
              "      <td>20200729</td>\n",
              "      <td>CUSCO</td>\n",
              "    </tr>\n",
              "    <tr>\n",
              "      <th>4777</th>\n",
              "      <td>3b55c285ca2c1a7d939cc729bfbb2956</td>\n",
              "      <td>CUSCO</td>\n",
              "      <td>LA CONVENCION</td>\n",
              "      <td>SANTA ANA</td>\n",
              "      <td>PR</td>\n",
              "      <td>48</td>\n",
              "      <td>FEMENINO</td>\n",
              "      <td>20200717</td>\n",
              "      <td>LA CONVENCION</td>\n",
              "    </tr>\n",
              "    <tr>\n",
              "      <th>4778</th>\n",
              "      <td>879bab8366399afe3ae820401b624b4c</td>\n",
              "      <td>CUSCO</td>\n",
              "      <td>CUSCO</td>\n",
              "      <td>WANCHAQ</td>\n",
              "      <td>PR</td>\n",
              "      <td>36</td>\n",
              "      <td>FEMENINO</td>\n",
              "      <td>20200724</td>\n",
              "      <td>CUSCO</td>\n",
              "    </tr>\n",
              "    <tr>\n",
              "      <th>4779</th>\n",
              "      <td>407ff44eb33e346cf412c049ac1e9da4</td>\n",
              "      <td>CUSCO</td>\n",
              "      <td>LA CONVENCION</td>\n",
              "      <td>MEGANTONI</td>\n",
              "      <td>PR</td>\n",
              "      <td>21</td>\n",
              "      <td>FEMENINO</td>\n",
              "      <td>20200725</td>\n",
              "      <td>LA CONVENCION</td>\n",
              "    </tr>\n",
              "    <tr>\n",
              "      <th>4780</th>\n",
              "      <td>4ea962e0881f30c7656487d0ce9156c9</td>\n",
              "      <td>CUSCO</td>\n",
              "      <td>CUSCO</td>\n",
              "      <td>WANCHAQ</td>\n",
              "      <td>PR</td>\n",
              "      <td>26</td>\n",
              "      <td>FEMENINO</td>\n",
              "      <td>20200727</td>\n",
              "      <td>CUSCO</td>\n",
              "    </tr>\n",
              "  </tbody>\n",
              "</table>\n",
              "<p>4781 rows × 9 columns</p>\n",
              "</div>\n",
              "      <button class=\"colab-df-convert\" onclick=\"convertToInteractive('df-d41a291e-f6cd-4469-a06b-d0e8129706bc')\"\n",
              "              title=\"Convert this dataframe to an interactive table.\"\n",
              "              style=\"display:none;\">\n",
              "        \n",
              "  <svg xmlns=\"http://www.w3.org/2000/svg\" height=\"24px\"viewBox=\"0 0 24 24\"\n",
              "       width=\"24px\">\n",
              "    <path d=\"M0 0h24v24H0V0z\" fill=\"none\"/>\n",
              "    <path d=\"M18.56 5.44l.94 2.06.94-2.06 2.06-.94-2.06-.94-.94-2.06-.94 2.06-2.06.94zm-11 1L8.5 8.5l.94-2.06 2.06-.94-2.06-.94L8.5 2.5l-.94 2.06-2.06.94zm10 10l.94 2.06.94-2.06 2.06-.94-2.06-.94-.94-2.06-.94 2.06-2.06.94z\"/><path d=\"M17.41 7.96l-1.37-1.37c-.4-.4-.92-.59-1.43-.59-.52 0-1.04.2-1.43.59L10.3 9.45l-7.72 7.72c-.78.78-.78 2.05 0 2.83L4 21.41c.39.39.9.59 1.41.59.51 0 1.02-.2 1.41-.59l7.78-7.78 2.81-2.81c.8-.78.8-2.07 0-2.86zM5.41 20L4 18.59l7.72-7.72 1.47 1.35L5.41 20z\"/>\n",
              "  </svg>\n",
              "      </button>\n",
              "      \n",
              "  <style>\n",
              "    .colab-df-container {\n",
              "      display:flex;\n",
              "      flex-wrap:wrap;\n",
              "      gap: 12px;\n",
              "    }\n",
              "\n",
              "    .colab-df-convert {\n",
              "      background-color: #E8F0FE;\n",
              "      border: none;\n",
              "      border-radius: 50%;\n",
              "      cursor: pointer;\n",
              "      display: none;\n",
              "      fill: #1967D2;\n",
              "      height: 32px;\n",
              "      padding: 0 0 0 0;\n",
              "      width: 32px;\n",
              "    }\n",
              "\n",
              "    .colab-df-convert:hover {\n",
              "      background-color: #E2EBFA;\n",
              "      box-shadow: 0px 1px 2px rgba(60, 64, 67, 0.3), 0px 1px 3px 1px rgba(60, 64, 67, 0.15);\n",
              "      fill: #174EA6;\n",
              "    }\n",
              "\n",
              "    [theme=dark] .colab-df-convert {\n",
              "      background-color: #3B4455;\n",
              "      fill: #D2E3FC;\n",
              "    }\n",
              "\n",
              "    [theme=dark] .colab-df-convert:hover {\n",
              "      background-color: #434B5C;\n",
              "      box-shadow: 0px 1px 3px 1px rgba(0, 0, 0, 0.15);\n",
              "      filter: drop-shadow(0px 1px 2px rgba(0, 0, 0, 0.3));\n",
              "      fill: #FFFFFF;\n",
              "    }\n",
              "  </style>\n",
              "\n",
              "      <script>\n",
              "        const buttonEl =\n",
              "          document.querySelector('#df-d41a291e-f6cd-4469-a06b-d0e8129706bc button.colab-df-convert');\n",
              "        buttonEl.style.display =\n",
              "          google.colab.kernel.accessAllowed ? 'block' : 'none';\n",
              "\n",
              "        async function convertToInteractive(key) {\n",
              "          const element = document.querySelector('#df-d41a291e-f6cd-4469-a06b-d0e8129706bc');\n",
              "          const dataTable =\n",
              "            await google.colab.kernel.invokeFunction('convertToInteractive',\n",
              "                                                     [key], {});\n",
              "          if (!dataTable) return;\n",
              "\n",
              "          const docLinkHtml = 'Like what you see? Visit the ' +\n",
              "            '<a target=\"_blank\" href=https://colab.research.google.com/notebooks/data_table.ipynb>data table notebook</a>'\n",
              "            + ' to learn more about interactive tables.';\n",
              "          element.innerHTML = '';\n",
              "          dataTable['output_type'] = 'display_data';\n",
              "          await google.colab.output.renderOutput(dataTable, element);\n",
              "          const docLink = document.createElement('div');\n",
              "          docLink.innerHTML = docLinkHtml;\n",
              "          element.appendChild(docLink);\n",
              "        }\n",
              "      </script>\n",
              "    </div>\n",
              "  </div>\n",
              "  "
            ]
          },
          "metadata": {},
          "execution_count": 59
        }
      ]
    },
    {
      "cell_type": "markdown",
      "source": [
        "Crear dataset de los datos estandarizados para test unitarios"
      ],
      "metadata": {
        "id": "DKIg4WmSm-yA"
      }
    },
    {
      "cell_type": "code",
      "source": [
        "standardised_test_df = SparkDFDataset(standardised_df)"
      ],
      "metadata": {
        "id": "W-ctaK1YnHPX"
      },
      "execution_count": null,
      "outputs": []
    },
    {
      "cell_type": "markdown",
      "source": [
        "Verificar si existen todas las provincias del Cusco"
      ],
      "metadata": {
        "id": "m3K6WY8MnNZM"
      }
    },
    {
      "cell_type": "code",
      "source": [
        "test_result = standardised_test_df.expect_column_values_to_be_in_set(\"PROVINCIA\", PROVINCIAS_CUSCO)\n",
        "\n",
        "print(f\"\"\"PROVINCIA are within scope: {'PASSED' if test_result.success else 'FAILED'}\"\"\")"
      ],
      "metadata": {
        "colab": {
          "base_uri": "https://localhost:8080/"
        },
        "id": "zKC6tq2ynSxD",
        "outputId": "3361dafb-e2bb-4221-b869-bc646fa6acdb"
      },
      "execution_count": null,
      "outputs": [
        {
          "output_type": "stream",
          "name": "stdout",
          "text": [
            "PROVINCIA are within scope: PASSED\n"
          ]
        }
      ]
    },
    {
      "cell_type": "markdown",
      "source": [
        "Verificar que los datos estandarizados sean iguales que los filtrados en cantidad"
      ],
      "metadata": {
        "id": "9-u0QjQks85c"
      }
    },
    {
      "cell_type": "code",
      "source": [
        "filtered_total_rows = filtered_test_df.get_row_count()\n",
        "test_result = standardised_test_df.expect_table_row_count_to_equal(filtered_total_rows)\n",
        "\n",
        "print(f\"\"\"Total row count of standardised_df ({test_result.result['observed_value']}) \\\n",
        "is equal to total row count of filtered_df ({filtered_total_rows}): \\\n",
        "{'PASSED' if test_result.result['observed_value'] == filtered_total_rows else 'FAILED'}\"\"\")"
      ],
      "metadata": {
        "colab": {
          "base_uri": "https://localhost:8080/"
        },
        "id": "zinzqfcGtCFx",
        "outputId": "75f874d3-adf8-4371-b8b1-15ded03169af"
      },
      "execution_count": null,
      "outputs": [
        {
          "output_type": "stream",
          "name": "stdout",
          "text": [
            "Total row count of standardised_df (4781) is equal to total row count of filtered_df (4781): PASSED\n"
          ]
        }
      ]
    },
    {
      "cell_type": "markdown",
      "source": [
        "Agrupar por departamento,fecha,provincia y contar"
      ],
      "metadata": {
        "id": "4yLB5VYPtnL7"
      }
    },
    {
      "cell_type": "code",
      "source": [
        "successful_casos_df = spark.sql(f\"\"\"\n",
        "    SELECT\n",
        "           FECHA_RESULTADO,\n",
        "           PROVINCIA,\n",
        "           count(PROVINCIA) total_successful_casos\n",
        "    FROM STANDARDISED_CASOS\n",
        "    GROUP BY DEPARTAMENTO,\n",
        "           FECHA_RESULTADO,\n",
        "           PROVINCIA\n",
        "    ORDER BY FECHA_RESULTADO,\n",
        "           PROVINCIA\n",
        "    \"\"\")"
      ],
      "metadata": {
        "id": "aNcQ88Hgt0Ve"
      },
      "execution_count": null,
      "outputs": []
    },
    {
      "cell_type": "code",
      "source": [
        "successful_casos_df.createOrReplaceTempView(\"SUCCESSFUL_CASOS\")"
      ],
      "metadata": {
        "id": "PToayz9zunsr"
      },
      "execution_count": null,
      "outputs": []
    },
    {
      "cell_type": "code",
      "source": [
        "successful_casos_df.toPandas()"
      ],
      "metadata": {
        "colab": {
          "base_uri": "https://localhost:8080/",
          "height": 424
        },
        "id": "_uTD6RwIu1yj",
        "outputId": "093004e9-9b97-4a88-d252-818bed221857"
      },
      "execution_count": null,
      "outputs": [
        {
          "output_type": "execute_result",
          "data": {
            "text/plain": [
              "    FECHA_RESULTADO      PROVINCIA  total_successful_casos\n",
              "0          20200313          CUSCO                       1\n",
              "1          20200318          CUSCO                       3\n",
              "2          20200322          CUSCO                       2\n",
              "3          20200324          CUSCO                       4\n",
              "4          20200327          CUSCO                       1\n",
              "..              ...            ...                     ...\n",
              "513        20200731          CUSCO                     184\n",
              "514        20200731        ESPINAR                       1\n",
              "515        20200731  LA CONVENCION                      41\n",
              "516        20200731   QUISPICANCHI                      10\n",
              "517        20200731       URUBAMBA                       2\n",
              "\n",
              "[518 rows x 3 columns]"
            ],
            "text/html": [
              "\n",
              "  <div id=\"df-1ca04a1b-1e9b-4179-a5e1-a0648bf6eb48\">\n",
              "    <div class=\"colab-df-container\">\n",
              "      <div>\n",
              "<style scoped>\n",
              "    .dataframe tbody tr th:only-of-type {\n",
              "        vertical-align: middle;\n",
              "    }\n",
              "\n",
              "    .dataframe tbody tr th {\n",
              "        vertical-align: top;\n",
              "    }\n",
              "\n",
              "    .dataframe thead th {\n",
              "        text-align: right;\n",
              "    }\n",
              "</style>\n",
              "<table border=\"1\" class=\"dataframe\">\n",
              "  <thead>\n",
              "    <tr style=\"text-align: right;\">\n",
              "      <th></th>\n",
              "      <th>FECHA_RESULTADO</th>\n",
              "      <th>PROVINCIA</th>\n",
              "      <th>total_successful_casos</th>\n",
              "    </tr>\n",
              "  </thead>\n",
              "  <tbody>\n",
              "    <tr>\n",
              "      <th>0</th>\n",
              "      <td>20200313</td>\n",
              "      <td>CUSCO</td>\n",
              "      <td>1</td>\n",
              "    </tr>\n",
              "    <tr>\n",
              "      <th>1</th>\n",
              "      <td>20200318</td>\n",
              "      <td>CUSCO</td>\n",
              "      <td>3</td>\n",
              "    </tr>\n",
              "    <tr>\n",
              "      <th>2</th>\n",
              "      <td>20200322</td>\n",
              "      <td>CUSCO</td>\n",
              "      <td>2</td>\n",
              "    </tr>\n",
              "    <tr>\n",
              "      <th>3</th>\n",
              "      <td>20200324</td>\n",
              "      <td>CUSCO</td>\n",
              "      <td>4</td>\n",
              "    </tr>\n",
              "    <tr>\n",
              "      <th>4</th>\n",
              "      <td>20200327</td>\n",
              "      <td>CUSCO</td>\n",
              "      <td>1</td>\n",
              "    </tr>\n",
              "    <tr>\n",
              "      <th>...</th>\n",
              "      <td>...</td>\n",
              "      <td>...</td>\n",
              "      <td>...</td>\n",
              "    </tr>\n",
              "    <tr>\n",
              "      <th>513</th>\n",
              "      <td>20200731</td>\n",
              "      <td>CUSCO</td>\n",
              "      <td>184</td>\n",
              "    </tr>\n",
              "    <tr>\n",
              "      <th>514</th>\n",
              "      <td>20200731</td>\n",
              "      <td>ESPINAR</td>\n",
              "      <td>1</td>\n",
              "    </tr>\n",
              "    <tr>\n",
              "      <th>515</th>\n",
              "      <td>20200731</td>\n",
              "      <td>LA CONVENCION</td>\n",
              "      <td>41</td>\n",
              "    </tr>\n",
              "    <tr>\n",
              "      <th>516</th>\n",
              "      <td>20200731</td>\n",
              "      <td>QUISPICANCHI</td>\n",
              "      <td>10</td>\n",
              "    </tr>\n",
              "    <tr>\n",
              "      <th>517</th>\n",
              "      <td>20200731</td>\n",
              "      <td>URUBAMBA</td>\n",
              "      <td>2</td>\n",
              "    </tr>\n",
              "  </tbody>\n",
              "</table>\n",
              "<p>518 rows × 3 columns</p>\n",
              "</div>\n",
              "      <button class=\"colab-df-convert\" onclick=\"convertToInteractive('df-1ca04a1b-1e9b-4179-a5e1-a0648bf6eb48')\"\n",
              "              title=\"Convert this dataframe to an interactive table.\"\n",
              "              style=\"display:none;\">\n",
              "        \n",
              "  <svg xmlns=\"http://www.w3.org/2000/svg\" height=\"24px\"viewBox=\"0 0 24 24\"\n",
              "       width=\"24px\">\n",
              "    <path d=\"M0 0h24v24H0V0z\" fill=\"none\"/>\n",
              "    <path d=\"M18.56 5.44l.94 2.06.94-2.06 2.06-.94-2.06-.94-.94-2.06-.94 2.06-2.06.94zm-11 1L8.5 8.5l.94-2.06 2.06-.94-2.06-.94L8.5 2.5l-.94 2.06-2.06.94zm10 10l.94 2.06.94-2.06 2.06-.94-2.06-.94-.94-2.06-.94 2.06-2.06.94z\"/><path d=\"M17.41 7.96l-1.37-1.37c-.4-.4-.92-.59-1.43-.59-.52 0-1.04.2-1.43.59L10.3 9.45l-7.72 7.72c-.78.78-.78 2.05 0 2.83L4 21.41c.39.39.9.59 1.41.59.51 0 1.02-.2 1.41-.59l7.78-7.78 2.81-2.81c.8-.78.8-2.07 0-2.86zM5.41 20L4 18.59l7.72-7.72 1.47 1.35L5.41 20z\"/>\n",
              "  </svg>\n",
              "      </button>\n",
              "      \n",
              "  <style>\n",
              "    .colab-df-container {\n",
              "      display:flex;\n",
              "      flex-wrap:wrap;\n",
              "      gap: 12px;\n",
              "    }\n",
              "\n",
              "    .colab-df-convert {\n",
              "      background-color: #E8F0FE;\n",
              "      border: none;\n",
              "      border-radius: 50%;\n",
              "      cursor: pointer;\n",
              "      display: none;\n",
              "      fill: #1967D2;\n",
              "      height: 32px;\n",
              "      padding: 0 0 0 0;\n",
              "      width: 32px;\n",
              "    }\n",
              "\n",
              "    .colab-df-convert:hover {\n",
              "      background-color: #E2EBFA;\n",
              "      box-shadow: 0px 1px 2px rgba(60, 64, 67, 0.3), 0px 1px 3px 1px rgba(60, 64, 67, 0.15);\n",
              "      fill: #174EA6;\n",
              "    }\n",
              "\n",
              "    [theme=dark] .colab-df-convert {\n",
              "      background-color: #3B4455;\n",
              "      fill: #D2E3FC;\n",
              "    }\n",
              "\n",
              "    [theme=dark] .colab-df-convert:hover {\n",
              "      background-color: #434B5C;\n",
              "      box-shadow: 0px 1px 3px 1px rgba(0, 0, 0, 0.15);\n",
              "      filter: drop-shadow(0px 1px 2px rgba(0, 0, 0, 0.3));\n",
              "      fill: #FFFFFF;\n",
              "    }\n",
              "  </style>\n",
              "\n",
              "      <script>\n",
              "        const buttonEl =\n",
              "          document.querySelector('#df-1ca04a1b-1e9b-4179-a5e1-a0648bf6eb48 button.colab-df-convert');\n",
              "        buttonEl.style.display =\n",
              "          google.colab.kernel.accessAllowed ? 'block' : 'none';\n",
              "\n",
              "        async function convertToInteractive(key) {\n",
              "          const element = document.querySelector('#df-1ca04a1b-1e9b-4179-a5e1-a0648bf6eb48');\n",
              "          const dataTable =\n",
              "            await google.colab.kernel.invokeFunction('convertToInteractive',\n",
              "                                                     [key], {});\n",
              "          if (!dataTable) return;\n",
              "\n",
              "          const docLinkHtml = 'Like what you see? Visit the ' +\n",
              "            '<a target=\"_blank\" href=https://colab.research.google.com/notebooks/data_table.ipynb>data table notebook</a>'\n",
              "            + ' to learn more about interactive tables.';\n",
              "          element.innerHTML = '';\n",
              "          dataTable['output_type'] = 'display_data';\n",
              "          await google.colab.output.renderOutput(dataTable, element);\n",
              "          const docLink = document.createElement('div');\n",
              "          docLink.innerHTML = docLinkHtml;\n",
              "          element.appendChild(docLink);\n",
              "        }\n",
              "      </script>\n",
              "    </div>\n",
              "  </div>\n",
              "  "
            ]
          },
          "metadata": {},
          "execution_count": 67
        }
      ]
    },
    {
      "cell_type": "code",
      "source": [
        "successful_casos_df_test_df = SparkDFDataset(successful_casos_df)"
      ],
      "metadata": {
        "id": "VzDb6yppvF38"
      },
      "execution_count": null,
      "outputs": []
    },
    {
      "cell_type": "code",
      "source": [
        "test_result = successful_casos_df_test_df.expect_compound_columns_to_be_unique([\"FECHA_RESULTADO\",\"PROVINCIA\"])\n",
        "\n",
        "print(f\"\"\"FECHA_RESULTADO column is unique for each PROVINCIA: {'PASSED' if test_result.success else 'FAILED'}\"\"\")"
      ],
      "metadata": {
        "colab": {
          "base_uri": "https://localhost:8080/"
        },
        "id": "YaQwvzOBvPIC",
        "outputId": "d3222fc3-4ed9-4f92-b758-da68aaf84961"
      },
      "execution_count": null,
      "outputs": [
        {
          "output_type": "stream",
          "name": "stdout",
          "text": [
            "FECHA_RESULTADO column is unique for each PROVINCIA: PASSED\n"
          ]
        }
      ]
    },
    {
      "cell_type": "markdown",
      "source": [
        "comprobar que los datos estandarizados y las metricas por fecha y provincias tengan las mismas cantidades"
      ],
      "metadata": {
        "id": "hXXSwW5XwDiL"
      }
    },
    {
      "cell_type": "code",
      "source": [
        "standardised_total_rows = standardised_test_df.get_row_count()\n",
        "test_result = successful_casos_df_test_df.expect_column_sum_to_be_between('total_successful_casos',\n",
        "                                                                              standardised_total_rows, standardised_total_rows)\n",
        "\n",
        "print(f\"\"\"Total sum of casos in metrics dataset ({test_result.result['observed_value']}) \\\n",
        "is equal to total rows in standardised dataset ({standardised_total_rows}): \\\n",
        "{'PASSED' if test_result.result['observed_value'] ==  standardised_total_rows else 'FAILED'}\"\"\")"
      ],
      "metadata": {
        "colab": {
          "base_uri": "https://localhost:8080/"
        },
        "id": "uhPaXngCwQlj",
        "outputId": "d996c168-c006-4bf2-dee0-b8b485d82696"
      },
      "execution_count": null,
      "outputs": [
        {
          "output_type": "stream",
          "name": "stdout",
          "text": [
            "Total sum of casos in metrics dataset (4781) is equal to total rows in standardised dataset (4781): PASSED\n"
          ]
        }
      ]
    },
    {
      "cell_type": "markdown",
      "source": [
        "Test integral a partir de los test unitarios anteriores"
      ],
      "metadata": {
        "id": "zrd-h-g6xDC2"
      }
    },
    {
      "cell_type": "code",
      "source": [
        "raw_test_df_validation = raw_test_df.validate()\n",
        "print(f\"\"\"1. Raw dataset validations: {raw_test_df_validation.success}; {raw_test_df_validation.statistics['success_percent']} successful\"\"\")\n",
        "filtered_test_df_validation = filtered_test_df.validate()\n",
        "print(f\"\"\"2. Filtered dataset validations: {filtered_test_df_validation.success}; {filtered_test_df_validation.statistics['success_percent']} successful\"\"\")\n",
        "standardised_test_df_validation = standardised_test_df.validate()\n",
        "print(f\"\"\"3. Standardised dataset validations: {standardised_test_df_validation.success}; {standardised_test_df_validation.statistics['success_percent']} successful\"\"\")\n",
        "successful_casos_df_test_df_validation = successful_casos_df_test_df.validate()\n",
        "print(f\"\"\"4. Metrics dataset validations: {successful_casos_df_test_df_validation.success}; {successful_casos_df_test_df_validation.statistics['success_percent']} successful\"\"\")"
      ],
      "metadata": {
        "colab": {
          "base_uri": "https://localhost:8080/"
        },
        "id": "cpBBanwqxHn1",
        "outputId": "5cef4925-64f9-4c2a-a471-c927fa236f93"
      },
      "execution_count": null,
      "outputs": [
        {
          "output_type": "stream",
          "name": "stdout",
          "text": [
            "1. Raw dataset validations: False; 88.88888888888889 successful\n",
            "2. Filtered dataset validations: True; 100.0 successful\n",
            "3. Standardised dataset validations: True; 100.0 successful\n",
            "4. Metrics dataset validations: True; 100.0 successful\n"
          ]
        }
      ]
    }
  ]
}